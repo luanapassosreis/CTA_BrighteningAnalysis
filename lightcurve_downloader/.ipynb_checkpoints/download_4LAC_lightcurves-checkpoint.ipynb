{
 "cells": [
  {
   "cell_type": "markdown",
   "id": "cd048419-cac9-4f3e-b017-ecaf5300ac2f",
   "metadata": {},
   "source": [
    "## Paolo Goldoni's Code to download the Filtered Catalog"
   ]
  },
  {
   "cell_type": "code",
   "execution_count": 1,
   "id": "302855be",
   "metadata": {},
   "outputs": [],
   "source": [
    "from astropy.io import fits\n",
    "import numpy as np\n",
    "from astropy.table import QTable\n",
    "import astropy.units as u\n",
    "from astropy.io import ascii\n",
    "import os\n",
    "import json\n",
    "import urllib.request"
   ]
  },
  {
   "cell_type": "markdown",
   "id": "e4d04a16",
   "metadata": {},
   "source": [
    "First set the paths of the catalog files. Note here I'm using the DR2 catalogs:"
   ]
  },
  {
   "cell_type": "code",
   "execution_count": 2,
   "id": "e127ec83",
   "metadata": {},
   "outputs": [],
   "source": [
    "path_4fgl_dr2_catalog = 'input_catalogs/gll_psc_v27.fit'\n",
    "path_4lac_low_gal_lat = 'input_catalogs/table-4LAC-DR2-l.fits'\n",
    "path_4lac_high_gal_lat = 'input_catalogs/table-4LAC-DR2-h.fits'\n",
    "# Paolo Goldoni's catalog (revised 4LAC redshifts) version 2: https://zenodo.org/record/5512660#.YVcoKHuxXRY \n",
    "path_goldoni_catalog = 'input_catalogs/4LAC_newz_AGNPop_2021.fits'"
   ]
  },
  {
   "cell_type": "code",
   "execution_count": 3,
   "id": "a1571f9d",
   "metadata": {},
   "outputs": [],
   "source": [
    "def read_4fgl_dr2():\n",
    "    hdulist = fits.open(path_4fgl_dr2_catalog)\n",
    "    ptSrcCat = hdulist[1].data\n",
    "    for i, name in enumerate(ptSrcCat['Source_Name']):\n",
    "        name = name.replace(\"4FGL \", \"\")\n",
    "        name = name.replace(\" \", \"\")\n",
    "        if name.endswith('c'):\n",
    "            name = name.replace('c', '')\n",
    "        ptSrcCat['Source_Name'][i] = name\n",
    "    return ptSrcCat\n",
    "\n",
    "def read_4lac_catalog_names(filename):\n",
    "    hdulist = fits.open(filename)\n",
    "    ptSrcCat = hdulist[1].data\n",
    "    names = ptSrcCat['Source_Name']\n",
    "    redshifts = ptSrcCat['Redshift']\n",
    "    for i, name in enumerate(names):\n",
    "        name = name.replace(\"4FGL \", \"\")\n",
    "        name = name.replace(\" \", \"\")\n",
    "        names[i] = name.replace('c', '')\n",
    "    return QTable([names, redshifts], names=('Source_Name', 'Redshift'))\n",
    "\n",
    "def read_goldoni_catalog():\n",
    "    hdulist = fits.open(path_goldoni_catalog)\n",
    "    goldoni = hdulist[1].data\n",
    "    names = goldoni['4FGL name']\n",
    "    for i, name in enumerate(names):\n",
    "        names[i] = name.replace(\"4FGL\",\"\")\n",
    "        if \"J0947.1-25\" in name:\n",
    "            names[i] = \"J0947.1-2541\"\n",
    "    goldoni['4FGL name'] = names\n",
    "    return goldoni\n",
    "\n",
    "def merge_4lac_and_4fgl():\n",
    "    four_fgl = read_4fgl_dr2()\n",
    "    four_lac_l = read_4lac_catalog_names(path_4lac_low_gal_lat)\n",
    "    four_lac_h = read_4lac_catalog_names(path_4lac_high_gal_lat)\n",
    "    mask_4lac = np.zeros(np.shape(four_fgl['Source_Name']), dtype=bool)\n",
    "    # mask_4lac = mask_4lac*False\n",
    "    for i, name in enumerate(four_fgl['Source_Name']):\n",
    "        if name in four_lac_l['Source_Name']:\n",
    "            mask_4lac[i] = True\n",
    "        elif name in four_lac_h['Source_Name']:\n",
    "            mask_4lac[i] = True\n",
    "    lac_fgl_crosscatalog = QTable(four_fgl[mask_4lac])\n",
    "\n",
    "    print(\"Total number of 4LAC entries found in the 4FGL: {}\".format(len(lac_fgl_crosscatalog)))\n",
    "    print(\"Total number of 4LAC entries: {}\".format(len(four_lac_l)+len(four_lac_h)))\n",
    "    \n",
    "    # Create new column in the 4fgl\n",
    "    lac_fgl_crosscatalog['Redshift'] = -1.\n",
    "    redshifts_added = 0\n",
    "    pos_redshifts_added = 0\n",
    "    for i, name in enumerate(lac_fgl_crosscatalog['Source_Name']):\n",
    "        if name in four_lac_l['Source_Name']:\n",
    "            lac_fgl_crosscatalog['Redshift'][i] = four_lac_l['Redshift'][four_lac_l['Source_Name'] == name]\n",
    "            redshifts_added += 1\n",
    "            if four_lac_l['Redshift'][four_lac_l['Source_Name'] == name] > 0:\n",
    "                pos_redshifts_added += 1\n",
    "        elif name in four_lac_h['Source_Name']:\n",
    "            lac_fgl_crosscatalog['Redshift'][i] = four_lac_h['Redshift'][four_lac_h['Source_Name'] == name]\n",
    "            redshifts_added += 1\n",
    "            if four_lac_h['Redshift'][four_lac_h['Source_Name'] == name] > 0:\n",
    "                pos_redshifts_added += 1\n",
    "        else:\n",
    "            print(\"This source did not appear in neither of the 4LAC catalogs...\")\n",
    "    print(\"Added a total of {} redshifts. {} had positive values.\".format(redshifts_added, pos_redshifts_added))\n",
    "    return lac_fgl_crosscatalog\n",
    "    \n",
    "    \n",
    "def goldoni_revised_4lac():\n",
    "    catalog = merge_4lac_and_4fgl()\n",
    "    goldoni = read_goldoni_catalog()\n",
    "    # Create some variables to store statistics:\n",
    "    valid_redshifts = 0\n",
    "    removed_valid_redshift = 0\n",
    "    added_valid_redshift = 0\n",
    "    updated_value = 0\n",
    "    for i, name in enumerate(catalog['Source_Name']):\n",
    "        if name in goldoni['4FGL name']:\n",
    "#             goldoni_redshift = goldoni['Redshift'][goldoni['4FGL name'] == name][0]\n",
    "            goldoni_redshift = goldoni['Redshift_corr'][goldoni['4FGL name'] == name][0]\n",
    "#             print(\"Updating redshift value, from {:2.3f} to {:2.3f}\".format(catalog['Redshift'][i], goldoni_redshift))\n",
    "            if \"{:2.3f}\".format(catalog['Redshift'][i]) == \"{:2.6f}\".format(goldoni_redshift):\n",
    "                valid_redshifts += 1\n",
    "            elif catalog['Redshift'][i] > 0. and goldoni_redshift > 0.:\n",
    "                updated_value += 1\n",
    "            elif catalog['Redshift'][i] < 0. and goldoni_redshift > 0.:\n",
    "                added_valid_redshift += 1\n",
    "            elif catalog['Redshift'][i] > 0. and goldoni_redshift < 0.:\n",
    "                removed_valid_redshift += 1\n",
    "            catalog['Redshift'][i] = \"{:2.6f}\".format(goldoni_redshift)\n",
    "        else:\n",
    "            catalog['Redshift'][i] = \"{:2.6f}\".format(catalog['Redshift'][i])\n",
    "#         else:\n",
    "#             print(\"{} in P. Goldoni catalog, but not within 4LAC.\".format(name))\n",
    "    print(\" -- From Paolo's catalog -- \")\n",
    "    print(\"A total of {} redshifts were correct within 4LAC\".format(valid_redshifts))\n",
    "    print(\"Removed a total of {} redshifts from 4LAC\".format(removed_valid_redshift))\n",
    "    print(\"Added a total of {} redshifts to 4LAC\".format(added_valid_redshift))\n",
    "    print(\"Updated a total of {} redshifts of 4LAC\".format(updated_value))\n",
    "    return catalog\n",
    "\n",
    "def convert_PLSuperExpCutoff_entries_to_LogParabola(catalog):\n",
    "    for i, entry in enumerate(catalog):\n",
    "        if entry['SpectrumType'] == 'PLSuperExpCutoff ':\n",
    "            catalog['SpectrumType'][i] = 'LogParabola      '\n",
    "    return catalog\n",
    "    \n",
    "\n",
    "def create_agn_pop_shared_4lac_catalog():\n",
    "    catalog = goldoni_revised_4lac()\n",
    "    keep_columns = ['Source_Name', 'RAJ2000', 'DEJ2000', 'Redshift', 'SpectrumType', 'Pivot_Energy', \n",
    "                    'PL_Flux_Density', 'PL_Index', 'LP_Flux_Density', 'LP_Index', 'LP_beta']\n",
    "    new_catalog = QTable()\n",
    "    for column in keep_columns:\n",
    "        new_catalog[column] = catalog[column]\n",
    "    final_catalog = convert_PLSuperExpCutoff_entries_to_LogParabola(catalog[keep_columns])\n",
    "    return final_catalog\n"
   ]
  },
  {
   "cell_type": "code",
   "execution_count": 4,
   "id": "4b79e5b9",
   "metadata": {
    "scrolled": true
   },
   "outputs": [
    {
     "name": "stdout",
     "output_type": "stream",
     "text": [
      "Total number of 4LAC entries found in the 4FGL: 3511\n",
      "Total number of 4LAC entries: 3511\n",
      "Added a total of 3511 redshifts. 1767 had positive values.\n",
      " -- From Paolo's catalog -- \n",
      "A total of 0 redshifts were correct within 4LAC\n",
      "Removed a total of 87 redshifts from 4LAC\n",
      "Added a total of 23 redshifts to 4LAC\n",
      "Updated a total of 236 redshifts of 4LAC\n"
     ]
    }
   ],
   "source": [
    "agn_pop_catalog = create_agn_pop_shared_4lac_catalog()"
   ]
  },
  {
   "cell_type": "code",
   "execution_count": 5,
   "id": "0347f82c",
   "metadata": {},
   "outputs": [],
   "source": [
    "# Labels used to define each cadence.\n",
    "cadences = ['daily', 'weekly', 'monthly']\n",
    "# TS = 1 corresponds to 1-sigma and TS = 4 corresponds to 2-sigma\n",
    "min_ts = ['1', '2', '3', '4']\n",
    "# Choose netween the available lightcurves: free or fixed power-law index.\n",
    "index_types = ['free', 'fixed']"
   ]
  },
  {
   "cell_type": "code",
   "execution_count": 6,
   "id": "66a080c5",
   "metadata": {},
   "outputs": [],
   "source": [
    "# We define the http direction of the lightcurve request, only for the sources within the AGN \n",
    "# Pop catalog (4LAC corrected with Paolo Goldoni's revised redshifts)\n",
    "http_directions = []\n",
    "filenames = []\n",
    "# We choose weekly cadence, and a min TS of 4\n",
    "cadence = 'daily'\n",
    "min_ts = '4'\n",
    "index_type = 'fixed'\n",
    "for name in agn_pop_catalog['Source_Name']:\n",
    "    http_request = \"https://fermi.gsfc.nasa.gov/ssc/data/access/lat/LightCurveRepository/\"\n",
    "    http_request += \"queryDB.php?typeOfRequest=lightCurveData&source_name=4FGL+{}\".format(name)\n",
    "    http_request += \"&cadence={}&flux_type=photon&index_type={}&ts_min={}\".format(cadence, index_type, min_ts)\n",
    "    http_directions.append(http_request)\n",
    "    filenames.append(\"4FGL+{}.json\".format(name))"
   ]
  },
  {
   "cell_type": "code",
   "execution_count": 7,
   "id": "bedf4696",
   "metadata": {},
   "outputs": [
    {
     "name": "stdout",
     "output_type": "stream",
     "text": [
      "CPU times: user 2min 44s, sys: 13.7 s, total: 2min 57s\n",
      "Wall time: 55min 40s\n"
     ]
    }
   ],
   "source": [
    "%%time\n",
    "# Simple function to check if one lightcurve file is empty or not:\n",
    "def delete_lightcurve_if_empty(filename):\n",
    "    # Open JSON file, transform it to dict, and check if its empty:\n",
    "    delete_it = False\n",
    "    with open(filename) as f: # Use file to refer to the file object\n",
    "        # Transform JSON object to a dictionary\n",
    "        data = json.load(f)\n",
    "        if len(data['ts']) == 0:\n",
    "            delete_it = True\n",
    "    if delete_it:\n",
    "        os.remove(filename)\n",
    "    \n",
    "# Download all lightcurves, and delete those that are empty:\n",
    "# This takes a while!!! (39 min for me) It is super slow... But works.\n",
    "for i, name in enumerate(agn_pop_catalog['Source_Name']):\n",
    "    urllib.request.urlretrieve(http_directions[i], filename=filenames[i])\n",
    "    delete_lightcurve_if_empty(filenames[i])"
   ]
  },
  {
   "cell_type": "markdown",
   "id": "853f2dee",
   "metadata": {},
   "source": [
    "To read the JSON files, here an example:"
   ]
  },
  {
   "cell_type": "code",
   "execution_count": 8,
   "id": "b79b4238",
   "metadata": {},
   "outputs": [
    {
     "name": "stdout",
     "output_type": "stream",
     "text": [
      "dict_keys(['ts', 'flux', 'flux_upper_limits', 'flux_error', 'photon_index', 'photon_index_interval', 'fit_tolerance', 'fit_convergence', 'dlogl', 'EG', 'GAL', 'bin_id'])\n"
     ]
    }
   ],
   "source": [
    "# Opening JSON file\n",
    "f = open('4FGL+J0001.2-0747.json')\n",
    " \n",
    "# returns JSON object as\n",
    "# a dictionary\n",
    "data = json.load(f)\n",
    "print(data.keys())"
   ]
  },
  {
   "cell_type": "code",
   "execution_count": null,
   "id": "c2ce8179-2485-4412-aded-758828e836f2",
   "metadata": {},
   "outputs": [],
   "source": []
  }
 ],
 "metadata": {
  "kernelspec": {
   "display_name": "Python 3 (ipykernel)",
   "language": "python",
   "name": "python3"
  },
  "language_info": {
   "codemirror_mode": {
    "name": "ipython",
    "version": 3
   },
   "file_extension": ".py",
   "mimetype": "text/x-python",
   "name": "python",
   "nbconvert_exporter": "python",
   "pygments_lexer": "ipython3",
   "version": "3.9.7"
  }
 },
 "nbformat": 4,
 "nbformat_minor": 5
}
