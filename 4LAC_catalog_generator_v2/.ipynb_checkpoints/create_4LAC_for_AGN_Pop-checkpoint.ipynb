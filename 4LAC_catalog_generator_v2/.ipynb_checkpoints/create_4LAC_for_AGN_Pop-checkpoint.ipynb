{
 "cells": [
  {
   "cell_type": "markdown",
   "id": "ea237923-896b-4176-a3ae-97d0671c8d38",
   "metadata": {},
   "source": [
    "## Paolo Goldoni's Code to create a Filtered Catalog"
   ]
  },
  {
   "cell_type": "code",
   "execution_count": 1,
   "id": "302855be",
   "metadata": {},
   "outputs": [],
   "source": [
    "from astropy.io import fits\n",
    "import numpy as np\n",
    "from astropy.table import QTable\n",
    "import astropy.units as u\n",
    "from astropy.io import ascii"
   ]
  },
  {
   "cell_type": "markdown",
   "id": "e4d04a16",
   "metadata": {},
   "source": [
    "First set the paths of the catalog files. Note here I'm using the DR2 catalogs:"
   ]
  },
  {
   "cell_type": "code",
   "execution_count": 2,
   "id": "e127ec83",
   "metadata": {},
   "outputs": [],
   "source": [
    "path_4fgl_dr2_catalog = 'input_catalogs/gll_psc_v27.fit'\n",
    "path_4lac_low_gal_lat = 'input_catalogs/table-4LAC-DR2-l.fits'\n",
    "path_4lac_high_gal_lat = 'input_catalogs/table-4LAC-DR2-h.fits'\n",
    "# Paolo Goldoni's catalog (revised 4LAC redshifts) version 2: https://zenodo.org/record/5512660#.YVcoKHuxXRY \n",
    "path_goldoni_catalog = 'input_catalogs/4LAC_newz_AGNPop_2021.fits'"
   ]
  },
  {
   "cell_type": "code",
   "execution_count": 3,
   "id": "a1571f9d",
   "metadata": {},
   "outputs": [],
   "source": [
    "def read_4fgl_dr2():\n",
    "    hdulist = fits.open(path_4fgl_dr2_catalog)\n",
    "    ptSrcCat = hdulist[1].data\n",
    "    for i, name in enumerate(ptSrcCat['Source_Name']):\n",
    "        name = name.replace(\"4FGL \", \"\")\n",
    "        name = name.replace(\" \", \"\")\n",
    "        if name.endswith('c'):\n",
    "            name = name.replace('c', '')\n",
    "        ptSrcCat['Source_Name'][i] = name\n",
    "    return ptSrcCat\n",
    "\n",
    "def read_4lac_catalog_names(filename):\n",
    "    hdulist = fits.open(filename)\n",
    "    ptSrcCat = hdulist[1].data\n",
    "    names = ptSrcCat['Source_Name']\n",
    "    sed_class = ptSrcCat['SED_class']\n",
    "    redshifts = ptSrcCat['Redshift']\n",
    "    for i, name in enumerate(names):\n",
    "        name = name.replace(\"4FGL \", \"\")\n",
    "        name = name.replace(\" \", \"\")\n",
    "        names[i] = name.replace('c', '')\n",
    "    return QTable([names, redshifts, sed_class], names=('Source_Name', 'Redshift', 'SED_class'))\n",
    "\n",
    "def read_goldoni_catalog():\n",
    "    hdulist = fits.open(path_goldoni_catalog)\n",
    "    goldoni = hdulist[1].data\n",
    "    names = goldoni['4FGL name']\n",
    "    for i, name in enumerate(names):\n",
    "        names[i] = name.replace(\"4FGL\",\"\")\n",
    "        if \"J0947.1-25\" in name:\n",
    "            names[i] = \"J0947.1-2541\"\n",
    "    goldoni['4FGL name'] = names\n",
    "    return goldoni\n",
    "\n",
    "def merge_4lac_and_4fgl():\n",
    "    four_fgl = read_4fgl_dr2()\n",
    "    four_lac_l = read_4lac_catalog_names(path_4lac_low_gal_lat)\n",
    "    four_lac_h = read_4lac_catalog_names(path_4lac_high_gal_lat)\n",
    "\n",
    "    mask_4lac = np.zeros(np.shape(four_fgl['Source_Name']), dtype=bool)\n",
    "    # mask_4lac = mask_4lac*False\n",
    "    for i, name in enumerate(four_fgl['Source_Name']):\n",
    "        if name in four_lac_l['Source_Name']:\n",
    "            mask_4lac[i] = True\n",
    "        elif name in four_lac_h['Source_Name']:\n",
    "            mask_4lac[i] = True\n",
    "    lac_fgl_crosscatalog = QTable(four_fgl[mask_4lac])\n",
    "\n",
    "    print(\"Total number of 4LAC entries found in the 4FGL: {}\".format(len(lac_fgl_crosscatalog)))\n",
    "    print(\"Total number of 4LAC entries: {}\".format(len(four_lac_l)+len(four_lac_h)))\n",
    "    \n",
    "    # Create new column in the 4fgl\n",
    "    lac_fgl_crosscatalog['Redshift'] = -1.\n",
    "    redshifts_added = 0\n",
    "    pos_redshifts_added = 0\n",
    "    for i, name in enumerate(lac_fgl_crosscatalog['Source_Name']):\n",
    "        if name in four_lac_l['Source_Name']:\n",
    "            lac_fgl_crosscatalog['Redshift'][i] = four_lac_l['Redshift'][four_lac_l['Source_Name'] == name]\n",
    "            redshifts_added += 1\n",
    "            if four_lac_l['Redshift'][four_lac_l['Source_Name'] == name] > 0:\n",
    "                pos_redshifts_added += 1\n",
    "        elif name in four_lac_h['Source_Name']:\n",
    "            lac_fgl_crosscatalog['Redshift'][i] = four_lac_h['Redshift'][four_lac_h['Source_Name'] == name]\n",
    "            redshifts_added += 1\n",
    "            if four_lac_h['Redshift'][four_lac_h['Source_Name'] == name] > 0:\n",
    "                pos_redshifts_added += 1\n",
    "        else:\n",
    "            print(\"This source did not appear in neither of the 4LAC catalogs...\")\n",
    "    print(\"Added a total of {} redshifts. {} had positive values.\".format(redshifts_added, pos_redshifts_added))\n",
    "    return lac_fgl_crosscatalog\n",
    "\n",
    "def add_sed_class_to_merged_4fgl_and_4lac():\n",
    "    catalog = merge_4lac_and_4fgl()\n",
    "    four_lac_l = read_4lac_catalog_names(path_4lac_low_gal_lat)\n",
    "    four_lac_h = read_4lac_catalog_names(path_4lac_high_gal_lat)\n",
    "\n",
    "    sed_class = []\n",
    "    for source_name in catalog['Source_Name']:\n",
    "        if source_name in four_lac_l['Source_Name']:\n",
    "            sed_class.append(four_lac_l['SED_class'][four_lac_l['Source_Name'] == source_name][0])\n",
    "        elif source_name in four_lac_h['Source_Name']:\n",
    "            sed_class.append(four_lac_h['SED_class'][four_lac_h['Source_Name'] == source_name][0])\n",
    "    catalog['SED_class'] = sed_class\n",
    "    return catalog\n",
    "    \n",
    "def goldoni_revised_4lac():\n",
    "    catalog = add_sed_class_to_merged_4fgl_and_4lac()\n",
    "    goldoni = read_goldoni_catalog()\n",
    "    # Create some variables to store statistics:\n",
    "    valid_redshifts = 0\n",
    "    removed_valid_redshift = 0\n",
    "    added_valid_redshift = 0\n",
    "    updated_value = 0\n",
    "    for i, name in enumerate(catalog['Source_Name']):\n",
    "        if name in goldoni['4FGL name']:\n",
    "#             goldoni_redshift = goldoni['Redshift'][goldoni['4FGL name'] == name][0]\n",
    "            goldoni_redshift = goldoni['Redshift_corr'][goldoni['4FGL name'] == name][0]\n",
    "#             print(\"Updating redshift value, from {:2.3f} to {:2.3f}\".format(catalog['Redshift'][i], goldoni_redshift))\n",
    "            if \"{:2.3f}\".format(catalog['Redshift'][i]) == \"{:2.6f}\".format(goldoni_redshift):\n",
    "                valid_redshifts += 1\n",
    "            elif catalog['Redshift'][i] > 0. and goldoni_redshift > 0.:\n",
    "                updated_value += 1\n",
    "            elif catalog['Redshift'][i] < 0. and goldoni_redshift > 0.:\n",
    "                added_valid_redshift += 1\n",
    "            elif catalog['Redshift'][i] > 0. and goldoni_redshift < 0.:\n",
    "                removed_valid_redshift += 1\n",
    "            catalog['Redshift'][i] = \"{:2.6f}\".format(goldoni_redshift)\n",
    "        else:\n",
    "            catalog['Redshift'][i] = \"{:2.6f}\".format(catalog['Redshift'][i])\n",
    "#         else:\n",
    "#             print(\"{} in P. Goldoni catalog, but not within 4LAC.\".format(name))\n",
    "    print(\" -- From Paolo's catalog -- \")\n",
    "    print(\"A total of {} redshifts were correct within 4LAC\".format(valid_redshifts))\n",
    "    print(\"Removed a total of {} redshifts from 4LAC\".format(removed_valid_redshift))\n",
    "    print(\"Added a total of {} redshifts to 4LAC\".format(added_valid_redshift))\n",
    "    print(\"Updated a total of {} redshifts of 4LAC\".format(updated_value))\n",
    "    return catalog\n",
    "\n",
    "def convert_PLSuperExpCutoff_entries_to_LogParabola(catalog):\n",
    "    for i, entry in enumerate(catalog):\n",
    "        if entry['SpectrumType'] == 'PLSuperExpCutoff ':\n",
    "            catalog['SpectrumType'][i] = 'LogParabola      '\n",
    "    return catalog\n",
    "    \n",
    "\n",
    "def create_agn_pop_shared_4lac_catalog():\n",
    "    catalog = goldoni_revised_4lac()\n",
    "    keep_columns = ['Source_Name', 'RAJ2000', 'DEJ2000', 'Redshift', 'SpectrumType', 'Pivot_Energy', \n",
    "                    'PL_Flux_Density', 'PL_Index', 'LP_Flux_Density', 'LP_Index', 'LP_beta', 'SED_class']\n",
    "    new_catalog = QTable()\n",
    "    for column in keep_columns:\n",
    "        new_catalog[column] = catalog[column]\n",
    "    final_catalog = convert_PLSuperExpCutoff_entries_to_LogParabola(catalog[keep_columns])\n",
    "    return final_catalog\n"
   ]
  },
  {
   "cell_type": "markdown",
   "id": "91d0946c",
   "metadata": {},
   "source": [
    "Generate the catalog and store it in a couple of different formats:"
   ]
  },
  {
   "cell_type": "code",
   "execution_count": 4,
   "id": "5f212767",
   "metadata": {},
   "outputs": [
    {
     "name": "stdout",
     "output_type": "stream",
     "text": [
      "Total number of 4LAC entries found in the 4FGL: 3511\n",
      "Total number of 4LAC entries: 3511\n",
      "Added a total of 3511 redshifts. 1767 had positive values.\n",
      " -- From Paolo's catalog -- \n",
      "A total of 0 redshifts were correct within 4LAC\n",
      "Removed a total of 87 redshifts from 4LAC\n",
      "Added a total of 23 redshifts to 4LAC\n",
      "Updated a total of 236 redshifts of 4LAC\n"
     ]
    }
   ],
   "source": [
    "agn_pop_catalog = create_agn_pop_shared_4lac_catalog()\n",
    "ascii.write(agn_pop_catalog, 'resulting_catalogs/agn_pop_4lac_dr2.dat', overwrite=True)  \n",
    "agn_pop_catalog.write('resulting_catalogs/agn_pop_4lac_dr2.ecsv', overwrite=True)  \n",
    "agn_pop_catalog.write('resulting_catalogs/agn_pop_4lac_dr2.fits', overwrite=True)  "
   ]
  },
  {
   "cell_type": "markdown",
   "id": "a8b01193",
   "metadata": {},
   "source": [
    "Only selecting those sources with a valid redshift:"
   ]
  },
  {
   "cell_type": "code",
   "execution_count": 5,
   "id": "370c9160",
   "metadata": {},
   "outputs": [],
   "source": [
    "sources_with_redshift = agn_pop_catalog[agn_pop_catalog['Redshift'] > 0.]\n",
    "ascii.write(sources_with_redshift, 'resulting_catalogs/agn_pop_4lac_dr2_with_z.dat', overwrite=True)  \n",
    "sources_with_redshift.write('resulting_catalogs/agn_pop_4lac_dr2_with_z.ecsv', overwrite=True)  \n",
    "sources_with_redshift.write('resulting_catalogs/agn_pop_4lac_dr2_with_z.fits', overwrite=True)  "
   ]
  },
  {
   "cell_type": "code",
   "execution_count": 6,
   "id": "fc94ada0-7448-4012-a0ac-d4e774f9e92e",
   "metadata": {},
   "outputs": [],
   "source": [
    "# sources_with_redshift"
   ]
  },
  {
   "cell_type": "code",
   "execution_count": 7,
   "id": "70535adb-57e2-4047-b911-afc31d8e8c3c",
   "metadata": {},
   "outputs": [
    {
     "data": {
      "text/html": [
       "<div><i>QTable length=3511</i>\n",
       "<table id=\"table140314175836272\" class=\"table-striped table-bordered table-condensed\">\n",
       "<thead><tr><th>Source_Name</th><th>RAJ2000</th><th>DEJ2000</th><th>Redshift</th><th>SpectrumType</th><th>Pivot_Energy</th><th>PL_Flux_Density</th><th>PL_Index</th><th>LP_Flux_Density</th><th>LP_Index</th><th>LP_beta</th><th>SED_class</th></tr></thead>\n",
       "<thead><tr><th>str18</th><th>float32</th><th>float32</th><th>float64</th><th>str17</th><th>float32</th><th>float32</th><th>float32</th><th>float32</th><th>float32</th><th>float32</th><th>str3</th></tr></thead>\n",
       "<tr><td>J0001.2+4741</td><td>0.3126</td><td>47.6859</td><td>-inf</td><td>PowerLaw</td><td>2514.9417</td><td>1.9206343e-14</td><td>2.2221549</td><td>1.893531e-14</td><td>2.2337143</td><td>-0.008456561</td><td>ISP</td></tr>\n",
       "<tr><td>J0001.2-0747</td><td>0.3151</td><td>-7.7971</td><td>-inf</td><td>PowerLaw</td><td>1612.6141</td><td>3.3465656e-13</td><td>2.1049428</td><td>3.5833494e-13</td><td>2.0718932</td><td>0.04876986</td><td>LSP</td></tr>\n",
       "<tr><td>J0001.5+2113</td><td>0.3815</td><td>21.2183</td><td>1.106</td><td>LogParabola</td><td>355.78442</td><td>3.9051106e-11</td><td>2.659308</td><td>4.532746e-11</td><td>2.5481505</td><td>0.15877607</td><td>ISP</td></tr>\n",
       "<tr><td>J0001.6-4156</td><td>0.4165</td><td>-41.9425</td><td>-inf</td><td>PowerLaw</td><td>4009.3838</td><td>2.0757042e-14</td><td>1.7558894</td><td>2.3474046e-14</td><td>1.6675872</td><td>0.06975478</td><td>HSP</td></tr>\n",
       "<tr><td>J0002.1-6728</td><td>0.5378</td><td>-67.4746</td><td>-inf</td><td>PowerLaw</td><td>3689.1895</td><td>1.8744873e-14</td><td>1.846469</td><td>2.3711413e-14</td><td>1.6778738</td><td>0.16372891</td><td></td></tr>\n",
       "<tr><td>J0002.3-0815</td><td>0.5937</td><td>-8.2652</td><td>-inf</td><td>PowerLaw</td><td>3959.9126</td><td>7.564005e-15</td><td>1.9895958</td><td>9.510118e-15</td><td>1.9282347</td><td>0.15012589</td><td>LSP</td></tr>\n",
       "<tr><td>J0002.4-5156</td><td>0.6131</td><td>-51.9355</td><td>-inf</td><td>PowerLaw</td><td>4530.31</td><td>3.954719e-15</td><td>1.897161</td><td>6.36572e-15</td><td>1.3496544</td><td>0.6414554</td><td></td></tr>\n",
       "<tr><td>J0003.1-5248</td><td>0.7817</td><td>-52.8071</td><td>-999.0</td><td>PowerLaw</td><td>3772.3918</td><td>2.3296884e-14</td><td>1.8750632</td><td>2.5519082e-14</td><td>1.810078</td><td>0.05651087</td><td></td></tr>\n",
       "<tr><td>J0003.2+2207</td><td>0.8058</td><td>22.1302</td><td>0.09983</td><td>PowerLaw</td><td>2572.9114</td><td>2.0326285e-14</td><td>2.210459</td><td>2.4485845e-14</td><td>0.7698703</td><td>0.99968916</td><td>LSP</td></tr>\n",
       "<tr><td>J0003.3-1928</td><td>0.8465</td><td>-19.4676</td><td>-inf</td><td>LogParabola</td><td>953.7989</td><td>4.970213e-13</td><td>2.2775729</td><td>6.135522e-13</td><td>2.0584412</td><td>0.24640359</td><td>LSP</td></tr>\n",
       "<tr><td>J0003.3-5905</td><td>0.8483</td><td>-59.0952</td><td>-inf</td><td>PowerLaw</td><td>1040.6666</td><td>1.7268618e-13</td><td>2.4606173</td><td>1.6223572e-13</td><td>2.5030756</td><td>-0.045128092</td><td></td></tr>\n",
       "<tr><td>...</td><td>...</td><td>...</td><td>...</td><td>...</td><td>...</td><td>...</td><td>...</td><td>...</td><td>...</td><td>...</td><td>...</td></tr>\n",
       "<tr><td>J2358.0-4601</td><td>359.5223</td><td>-46.0176</td><td>0.444</td><td>PowerLaw</td><td>662.7951</td><td>1.0244216e-12</td><td>2.58189</td><td>9.821101e-13</td><td>2.6041126</td><td>-0.031504635</td><td>LSP</td></tr>\n",
       "<tr><td>J2358.1-2853</td><td>359.5498</td><td>-28.8936</td><td>-inf</td><td>PowerLaw</td><td>1281.394</td><td>2.1042043e-13</td><td>2.2268965</td><td>2.4755287e-13</td><td>2.133363</td><td>0.14821252</td><td>ISP</td></tr>\n",
       "<tr><td>J2358.3-1021</td><td>359.5822</td><td>-10.3616</td><td>1.638</td><td>PowerLaw</td><td>574.9515</td><td>4.0763955e-12</td><td>2.5930922</td><td>4.45531e-12</td><td>2.5634255</td><td>0.083448544</td><td>LSP</td></tr>\n",
       "<tr><td>J2358.3+3830</td><td>359.5883</td><td>38.5097</td><td>0.2</td><td>PowerLaw</td><td>2144.6682</td><td>8.894096e-14</td><td>2.174949</td><td>9.005037e-14</td><td>2.1650395</td><td>0.008875638</td><td></td></tr>\n",
       "<tr><td>J2358.5-1808</td><td>359.6387</td><td>-18.1408</td><td>0.057553</td><td>PowerLaw</td><td>2582.5127</td><td>7.908459e-14</td><td>1.9336915</td><td>8.5434426e-14</td><td>1.8634139</td><td>0.054448407</td><td>HSP</td></tr>\n",
       "<tr><td>J2359.0+3922</td><td>359.7548</td><td>39.3669</td><td>1.198</td><td>PowerLaw</td><td>1621.9188</td><td>1.1973475e-13</td><td>2.3477888</td><td>1.1708454e-13</td><td>2.3640099</td><td>-0.017356092</td><td>LSP</td></tr>\n",
       "<tr><td>J2359.0-3038</td><td>359.7719</td><td>-30.6367</td><td>0.165</td><td>PowerLaw</td><td>3703.5862</td><td>3.3936805e-14</td><td>1.8187637</td><td>3.5061916e-14</td><td>1.7988403</td><td>0.017256342</td><td>HSP</td></tr>\n",
       "<tr><td>J2359.1+1719</td><td>359.7756</td><td>17.3225</td><td>-inf</td><td>PowerLaw</td><td>2801.7244</td><td>1.7541105e-14</td><td>2.0055103</td><td>2.2782769e-14</td><td>1.9000158</td><td>0.16625412</td><td>ISP</td></tr>\n",
       "<tr><td>J2359.2-3134</td><td>359.8167</td><td>-31.5832</td><td>0.99</td><td>PowerLaw</td><td>663.0757</td><td>8.154589e-13</td><td>2.604698</td><td>8.583684e-13</td><td>2.5858138</td><td>0.039058067</td><td>LSP</td></tr>\n",
       "<tr><td>J2359.3+0215</td><td>359.8329</td><td>2.2603</td><td>-inf</td><td>PowerLaw</td><td>4726.44</td><td>5.183745e-15</td><td>1.7947075</td><td>9.2811314e-15</td><td>1.607395</td><td>0.42203328</td><td>LSP</td></tr>\n",
       "<tr><td>J2359.3-2049</td><td>359.8357</td><td>-20.8189</td><td>0.096</td><td>PowerLaw</td><td>1965.9421</td><td>8.613323e-14</td><td>2.0880377</td><td>8.2531455e-14</td><td>2.1214917</td><td>-0.026858702</td><td>LSP</td></tr>\n",
       "<tr><td>J2359.9-3736</td><td>359.9816</td><td>-37.616</td><td>-inf</td><td>PowerLaw</td><td>1844.0975</td><td>5.4040583e-14</td><td>2.0688875</td><td>7.380662e-14</td><td>1.9067892</td><td>0.25992045</td><td>LSP</td></tr>\n",
       "</table></div>"
      ],
      "text/plain": [
       "<QTable length=3511>\n",
       "Source_Name  RAJ2000  DEJ2000  Redshift ...  LP_Index   LP_beta    SED_class\n",
       "   str18     float32  float32  float64  ...  float32    float32       str3  \n",
       "------------ -------- -------- -------- ... --------- ------------ ---------\n",
       "J0001.2+4741   0.3126  47.6859     -inf ... 2.2337143 -0.008456561       ISP\n",
       "J0001.2-0747   0.3151  -7.7971     -inf ... 2.0718932   0.04876986       LSP\n",
       "J0001.5+2113   0.3815  21.2183    1.106 ... 2.5481505   0.15877607       ISP\n",
       "J0001.6-4156   0.4165 -41.9425     -inf ... 1.6675872   0.06975478       HSP\n",
       "J0002.1-6728   0.5378 -67.4746     -inf ... 1.6778738   0.16372891          \n",
       "J0002.3-0815   0.5937  -8.2652     -inf ... 1.9282347   0.15012589       LSP\n",
       "J0002.4-5156   0.6131 -51.9355     -inf ... 1.3496544    0.6414554          \n",
       "J0003.1-5248   0.7817 -52.8071   -999.0 ...  1.810078   0.05651087          \n",
       "J0003.2+2207   0.8058  22.1302  0.09983 ... 0.7698703   0.99968916       LSP\n",
       "J0003.3-1928   0.8465 -19.4676     -inf ... 2.0584412   0.24640359       LSP\n",
       "J0003.3-5905   0.8483 -59.0952     -inf ... 2.5030756 -0.045128092          \n",
       "         ...      ...      ...      ... ...       ...          ...       ...\n",
       "J2358.0-4601 359.5223 -46.0176    0.444 ... 2.6041126 -0.031504635       LSP\n",
       "J2358.1-2853 359.5498 -28.8936     -inf ...  2.133363   0.14821252       ISP\n",
       "J2358.3-1021 359.5822 -10.3616    1.638 ... 2.5634255  0.083448544       LSP\n",
       "J2358.3+3830 359.5883  38.5097      0.2 ... 2.1650395  0.008875638          \n",
       "J2358.5-1808 359.6387 -18.1408 0.057553 ... 1.8634139  0.054448407       HSP\n",
       "J2359.0+3922 359.7548  39.3669    1.198 ... 2.3640099 -0.017356092       LSP\n",
       "J2359.0-3038 359.7719 -30.6367    0.165 ... 1.7988403  0.017256342       HSP\n",
       "J2359.1+1719 359.7756  17.3225     -inf ... 1.9000158   0.16625412       ISP\n",
       "J2359.2-3134 359.8167 -31.5832     0.99 ... 2.5858138  0.039058067       LSP\n",
       "J2359.3+0215 359.8329   2.2603     -inf ...  1.607395   0.42203328       LSP\n",
       "J2359.3-2049 359.8357 -20.8189    0.096 ... 2.1214917 -0.026858702       LSP\n",
       "J2359.9-3736 359.9816  -37.616     -inf ... 1.9067892   0.25992045       LSP"
      ]
     },
     "execution_count": 7,
     "metadata": {},
     "output_type": "execute_result"
    }
   ],
   "source": [
    "agn_pop_catalog"
   ]
  },
  {
   "cell_type": "markdown",
   "id": "67890532-464c-4688-ad9c-463c0dba8864",
   "metadata": {},
   "source": [
    "## Separating into Classes (Low/ Intermediate/ High Synchrotron Peak)\n",
    "\n",
    "And filtering only the columns we need"
   ]
  },
  {
   "cell_type": "code",
   "execution_count": 8,
   "id": "ff70a6df-b176-442b-b298-ed713b7ebc85",
   "metadata": {},
   "outputs": [
    {
     "data": {
      "text/html": [
       "<div><i>QTable length=3511</i>\n",
       "<table id=\"table140314477132960\" class=\"table-striped table-bordered table-condensed\">\n",
       "<thead><tr><th>Source_Name</th><th>SpectrumType</th><th>Pivot_Energy</th><th>PL_Flux_Density</th><th>PL_Index</th><th>LP_Flux_Density</th><th>LP_Index</th><th>LP_beta</th><th>SED_class</th></tr></thead>\n",
       "<thead><tr><th>str18</th><th>str17</th><th>float32</th><th>float32</th><th>float32</th><th>float32</th><th>float32</th><th>float32</th><th>str3</th></tr></thead>\n",
       "<tr><td>J0001.2+4741</td><td>PowerLaw</td><td>2514.9417</td><td>1.9206343e-14</td><td>2.2221549</td><td>1.893531e-14</td><td>2.2337143</td><td>-0.008456561</td><td>ISP</td></tr>\n",
       "<tr><td>J0001.2-0747</td><td>PowerLaw</td><td>1612.6141</td><td>3.3465656e-13</td><td>2.1049428</td><td>3.5833494e-13</td><td>2.0718932</td><td>0.04876986</td><td>LSP</td></tr>\n",
       "<tr><td>J0001.5+2113</td><td>LogParabola</td><td>355.78442</td><td>3.9051106e-11</td><td>2.659308</td><td>4.532746e-11</td><td>2.5481505</td><td>0.15877607</td><td>ISP</td></tr>\n",
       "<tr><td>J0001.6-4156</td><td>PowerLaw</td><td>4009.3838</td><td>2.0757042e-14</td><td>1.7558894</td><td>2.3474046e-14</td><td>1.6675872</td><td>0.06975478</td><td>HSP</td></tr>\n",
       "<tr><td>J0002.1-6728</td><td>PowerLaw</td><td>3689.1895</td><td>1.8744873e-14</td><td>1.846469</td><td>2.3711413e-14</td><td>1.6778738</td><td>0.16372891</td><td></td></tr>\n",
       "<tr><td>J0002.3-0815</td><td>PowerLaw</td><td>3959.9126</td><td>7.564005e-15</td><td>1.9895958</td><td>9.510118e-15</td><td>1.9282347</td><td>0.15012589</td><td>LSP</td></tr>\n",
       "<tr><td>J0002.4-5156</td><td>PowerLaw</td><td>4530.31</td><td>3.954719e-15</td><td>1.897161</td><td>6.36572e-15</td><td>1.3496544</td><td>0.6414554</td><td></td></tr>\n",
       "<tr><td>J0003.1-5248</td><td>PowerLaw</td><td>3772.3918</td><td>2.3296884e-14</td><td>1.8750632</td><td>2.5519082e-14</td><td>1.810078</td><td>0.05651087</td><td></td></tr>\n",
       "<tr><td>J0003.2+2207</td><td>PowerLaw</td><td>2572.9114</td><td>2.0326285e-14</td><td>2.210459</td><td>2.4485845e-14</td><td>0.7698703</td><td>0.99968916</td><td>LSP</td></tr>\n",
       "<tr><td>J0003.3-1928</td><td>LogParabola</td><td>953.7989</td><td>4.970213e-13</td><td>2.2775729</td><td>6.135522e-13</td><td>2.0584412</td><td>0.24640359</td><td>LSP</td></tr>\n",
       "<tr><td>J0003.3-5905</td><td>PowerLaw</td><td>1040.6666</td><td>1.7268618e-13</td><td>2.4606173</td><td>1.6223572e-13</td><td>2.5030756</td><td>-0.045128092</td><td></td></tr>\n",
       "<tr><td>...</td><td>...</td><td>...</td><td>...</td><td>...</td><td>...</td><td>...</td><td>...</td><td>...</td></tr>\n",
       "<tr><td>J2358.0-4601</td><td>PowerLaw</td><td>662.7951</td><td>1.0244216e-12</td><td>2.58189</td><td>9.821101e-13</td><td>2.6041126</td><td>-0.031504635</td><td>LSP</td></tr>\n",
       "<tr><td>J2358.1-2853</td><td>PowerLaw</td><td>1281.394</td><td>2.1042043e-13</td><td>2.2268965</td><td>2.4755287e-13</td><td>2.133363</td><td>0.14821252</td><td>ISP</td></tr>\n",
       "<tr><td>J2358.3-1021</td><td>PowerLaw</td><td>574.9515</td><td>4.0763955e-12</td><td>2.5930922</td><td>4.45531e-12</td><td>2.5634255</td><td>0.083448544</td><td>LSP</td></tr>\n",
       "<tr><td>J2358.3+3830</td><td>PowerLaw</td><td>2144.6682</td><td>8.894096e-14</td><td>2.174949</td><td>9.005037e-14</td><td>2.1650395</td><td>0.008875638</td><td></td></tr>\n",
       "<tr><td>J2358.5-1808</td><td>PowerLaw</td><td>2582.5127</td><td>7.908459e-14</td><td>1.9336915</td><td>8.5434426e-14</td><td>1.8634139</td><td>0.054448407</td><td>HSP</td></tr>\n",
       "<tr><td>J2359.0+3922</td><td>PowerLaw</td><td>1621.9188</td><td>1.1973475e-13</td><td>2.3477888</td><td>1.1708454e-13</td><td>2.3640099</td><td>-0.017356092</td><td>LSP</td></tr>\n",
       "<tr><td>J2359.0-3038</td><td>PowerLaw</td><td>3703.5862</td><td>3.3936805e-14</td><td>1.8187637</td><td>3.5061916e-14</td><td>1.7988403</td><td>0.017256342</td><td>HSP</td></tr>\n",
       "<tr><td>J2359.1+1719</td><td>PowerLaw</td><td>2801.7244</td><td>1.7541105e-14</td><td>2.0055103</td><td>2.2782769e-14</td><td>1.9000158</td><td>0.16625412</td><td>ISP</td></tr>\n",
       "<tr><td>J2359.2-3134</td><td>PowerLaw</td><td>663.0757</td><td>8.154589e-13</td><td>2.604698</td><td>8.583684e-13</td><td>2.5858138</td><td>0.039058067</td><td>LSP</td></tr>\n",
       "<tr><td>J2359.3+0215</td><td>PowerLaw</td><td>4726.44</td><td>5.183745e-15</td><td>1.7947075</td><td>9.2811314e-15</td><td>1.607395</td><td>0.42203328</td><td>LSP</td></tr>\n",
       "<tr><td>J2359.3-2049</td><td>PowerLaw</td><td>1965.9421</td><td>8.613323e-14</td><td>2.0880377</td><td>8.2531455e-14</td><td>2.1214917</td><td>-0.026858702</td><td>LSP</td></tr>\n",
       "<tr><td>J2359.9-3736</td><td>PowerLaw</td><td>1844.0975</td><td>5.4040583e-14</td><td>2.0688875</td><td>7.380662e-14</td><td>1.9067892</td><td>0.25992045</td><td>LSP</td></tr>\n",
       "</table></div>"
      ],
      "text/plain": [
       "<QTable length=3511>\n",
       "Source_Name     SpectrumType   Pivot_Energy ...   LP_beta    SED_class\n",
       "   str18           str17         float32    ...   float32       str3  \n",
       "------------ ----------------- ------------ ... ------------ ---------\n",
       "J0001.2+4741 PowerLaw             2514.9417 ... -0.008456561       ISP\n",
       "J0001.2-0747 PowerLaw             1612.6141 ...   0.04876986       LSP\n",
       "J0001.5+2113 LogParabola          355.78442 ...   0.15877607       ISP\n",
       "J0001.6-4156 PowerLaw             4009.3838 ...   0.06975478       HSP\n",
       "J0002.1-6728 PowerLaw             3689.1895 ...   0.16372891          \n",
       "J0002.3-0815 PowerLaw             3959.9126 ...   0.15012589       LSP\n",
       "J0002.4-5156 PowerLaw               4530.31 ...    0.6414554          \n",
       "J0003.1-5248 PowerLaw             3772.3918 ...   0.05651087          \n",
       "J0003.2+2207 PowerLaw             2572.9114 ...   0.99968916       LSP\n",
       "J0003.3-1928 LogParabola           953.7989 ...   0.24640359       LSP\n",
       "J0003.3-5905 PowerLaw             1040.6666 ... -0.045128092          \n",
       "         ...               ...          ... ...          ...       ...\n",
       "J2358.0-4601 PowerLaw              662.7951 ... -0.031504635       LSP\n",
       "J2358.1-2853 PowerLaw              1281.394 ...   0.14821252       ISP\n",
       "J2358.3-1021 PowerLaw              574.9515 ...  0.083448544       LSP\n",
       "J2358.3+3830 PowerLaw             2144.6682 ...  0.008875638          \n",
       "J2358.5-1808 PowerLaw             2582.5127 ...  0.054448407       HSP\n",
       "J2359.0+3922 PowerLaw             1621.9188 ... -0.017356092       LSP\n",
       "J2359.0-3038 PowerLaw             3703.5862 ...  0.017256342       HSP\n",
       "J2359.1+1719 PowerLaw             2801.7244 ...   0.16625412       ISP\n",
       "J2359.2-3134 PowerLaw              663.0757 ...  0.039058067       LSP\n",
       "J2359.3+0215 PowerLaw               4726.44 ...   0.42203328       LSP\n",
       "J2359.3-2049 PowerLaw             1965.9421 ... -0.026858702       LSP\n",
       "J2359.9-3736 PowerLaw             1844.0975 ...   0.25992045       LSP"
      ]
     },
     "execution_count": 8,
     "metadata": {},
     "output_type": "execute_result"
    }
   ],
   "source": [
    "# print('\\n List of column names:', agn_pop_catalog.colnames)  # List of column names\n",
    "# print('\\n Number of table rows:', len(agn_pop_catalog))      # Number of table rows\n",
    "\n",
    "catalog_data = agn_pop_catalog['Source_Name', 'SpectrumType', 'Pivot_Energy', 'PL_Flux_Density', 'PL_Index', 'LP_Flux_Density', 'LP_Index', 'LP_beta', 'SED_class']\n",
    "\n",
    "catalog_data"
   ]
  },
  {
   "cell_type": "code",
   "execution_count": 9,
   "id": "7704e028-8082-4e60-afa8-07a4465d3e30",
   "metadata": {},
   "outputs": [],
   "source": [
    "## Filtering LSP, ISP and HSP:\n",
    "\n",
    "dataLSP = catalog_data[catalog_data['SED_class'] == 'LSP']\n",
    "dataISP = catalog_data[catalog_data['SED_class'] == 'ISP']\n",
    "dataHSP = catalog_data[catalog_data['SED_class'] == 'HSP']"
   ]
  },
  {
   "cell_type": "code",
   "execution_count": 10,
   "id": "8499d270-c24b-497b-a4c4-1afc129370ef",
   "metadata": {},
   "outputs": [
    {
     "data": {
      "text/html": [
       "&lt;Column name=&apos;SED_class&apos; dtype=&apos;str3&apos; length=4&gt;\n",
       "<table>\n",
       "<tr><td></td></tr>\n",
       "<tr><td>HSP</td></tr>\n",
       "<tr><td>ISP</td></tr>\n",
       "<tr><td>LSP</td></tr>\n",
       "</table>"
      ],
      "text/plain": [
       "<Column name='SED_class' dtype='str3' length=4>\n",
       "   \n",
       "HSP\n",
       "ISP\n",
       "LSP"
      ]
     },
     "execution_count": 10,
     "metadata": {},
     "output_type": "execute_result"
    }
   ],
   "source": [
    "np.unique(catalog_data['SED_class'])"
   ]
  },
  {
   "cell_type": "code",
   "execution_count": 11,
   "id": "e6b4acd8-55b1-44b0-9d56-31f63fc0479a",
   "metadata": {},
   "outputs": [],
   "source": [
    "# dataLSP"
   ]
  },
  {
   "cell_type": "code",
   "execution_count": 12,
   "id": "649597e3-84fc-4e87-a837-541ebbcc2f75",
   "metadata": {},
   "outputs": [
    {
     "data": {
      "text/html": [
       "<div><i>QTable length=508</i>\n",
       "<table id=\"table140314476333520\" class=\"table-striped table-bordered table-condensed\">\n",
       "<thead><tr><th>Source_Name</th><th>SpectrumType</th><th>Pivot_Energy</th><th>PL_Flux_Density</th><th>PL_Index</th><th>LP_Flux_Density</th><th>LP_Index</th><th>LP_beta</th><th>SED_class</th></tr></thead>\n",
       "<thead><tr><th>str18</th><th>str17</th><th>float32</th><th>float32</th><th>float32</th><th>float32</th><th>float32</th><th>float32</th><th>str3</th></tr></thead>\n",
       "<tr><td>J0001.2+4741</td><td>PowerLaw</td><td>2514.9417</td><td>1.9206343e-14</td><td>2.2221549</td><td>1.893531e-14</td><td>2.2337143</td><td>-0.008456561</td><td>ISP</td></tr>\n",
       "<tr><td>J0001.5+2113</td><td>LogParabola</td><td>355.78442</td><td>3.9051106e-11</td><td>2.659308</td><td>4.532746e-11</td><td>2.5481505</td><td>0.15877607</td><td>ISP</td></tr>\n",
       "<tr><td>J0004.0+0840</td><td>PowerLaw</td><td>2554.3271</td><td>2.969869e-14</td><td>2.035315</td><td>4.5140107e-14</td><td>1.6673219</td><td>0.46910653</td><td>ISP</td></tr>\n",
       "<tr><td>J0006.4+0135</td><td>PowerLaw</td><td>2602.1719</td><td>2.2629468e-14</td><td>2.0524669</td><td>3.0523144e-14</td><td>1.7409216</td><td>0.32114387</td><td>ISP</td></tr>\n",
       "<tr><td>J0009.7-3217</td><td>PowerLaw</td><td>1941.9213</td><td>4.3940956e-14</td><td>2.1454287</td><td>5.253848e-14</td><td>2.0901954</td><td>0.12845568</td><td>ISP</td></tr>\n",
       "<tr><td>J0011.4-4110</td><td>PowerLaw</td><td>746.64996</td><td>2.9612678e-13</td><td>2.5804715</td><td>3.496387e-13</td><td>2.5198011</td><td>0.15830652</td><td>ISP</td></tr>\n",
       "<tr><td>J0015.2+3537</td><td>PowerLaw</td><td>5492.13</td><td>3.621733e-15</td><td>1.926888</td><td>3.32528e-15</td><td>1.9560485</td><td>-0.040807247</td><td>ISP</td></tr>\n",
       "<tr><td>J0017.8+1455</td><td>PowerLaw</td><td>1576.2239</td><td>1.0417376e-13</td><td>2.192974</td><td>1.2529787e-13</td><td>2.0309079</td><td>0.19641905</td><td>ISP</td></tr>\n",
       "<tr><td>J0019.3-8152</td><td>PowerLaw</td><td>1951.5142</td><td>1.6703339e-13</td><td>2.1124363</td><td>1.7725284e-13</td><td>2.0754688</td><td>0.041055746</td><td>ISP</td></tr>\n",
       "<tr><td>J0021.5-2552</td><td>PowerLaw</td><td>1301.5568</td><td>4.2186813e-13</td><td>2.1214414</td><td>4.5003232e-13</td><td>2.0815938</td><td>0.045913514</td><td>ISP</td></tr>\n",
       "<tr><td>J0021.9-5140</td><td>PowerLaw</td><td>1643.3568</td><td>2.3021803e-13</td><td>2.0653079</td><td>2.3355441e-13</td><td>2.0532596</td><td>0.009565411</td><td>ISP</td></tr>\n",
       "<tr><td>...</td><td>...</td><td>...</td><td>...</td><td>...</td><td>...</td><td>...</td><td>...</td><td>...</td></tr>\n",
       "<tr><td>J2321.7-6438</td><td>PowerLaw</td><td>1597.1663</td><td>2.5450068e-13</td><td>2.0985982</td><td>2.5483793e-13</td><td>2.097659</td><td>0.0007196776</td><td>ISP</td></tr>\n",
       "<tr><td>J2324.7+0801</td><td>PowerLaw</td><td>1539.2036</td><td>3.182266e-13</td><td>2.2279153</td><td>3.362555e-13</td><td>2.189785</td><td>0.045739554</td><td>ISP</td></tr>\n",
       "<tr><td>J2325.4-4800</td><td>PowerLaw</td><td>1869.2686</td><td>3.1638762e-13</td><td>2.105631</td><td>3.3080358e-13</td><td>2.06413</td><td>0.037751026</td><td>ISP</td></tr>\n",
       "<tr><td>J2327.4+0444</td><td>PowerLaw</td><td>1075.3025</td><td>1.9360167e-13</td><td>2.4300566</td><td>1.8669033e-13</td><td>2.4301825</td><td>-0.02443383</td><td>ISP</td></tr>\n",
       "<tr><td>J2330.3-2948</td><td>PowerLaw</td><td>2551.1108</td><td>2.5058069e-14</td><td>2.0425398</td><td>2.0728404e-14</td><td>2.181349</td><td>-0.0921453</td><td>ISP</td></tr>\n",
       "<tr><td>J2338.1+0325</td><td>PowerLaw</td><td>1603.4708</td><td>8.3322855e-14</td><td>2.3742676</td><td>1.0402155e-13</td><td>2.3687997</td><td>0.17217295</td><td>ISP</td></tr>\n",
       "<tr><td>J2338.9+2124</td><td>PowerLaw</td><td>2547.4956</td><td>6.467933e-14</td><td>2.0069292</td><td>6.304568e-14</td><td>2.0199738</td><td>-0.013409986</td><td>ISP</td></tr>\n",
       "<tr><td>J2341.8-2917</td><td>PowerLaw</td><td>1593.5455</td><td>7.331559e-14</td><td>2.23776</td><td>8.4215383e-14</td><td>2.107179</td><td>0.12866709</td><td>ISP</td></tr>\n",
       "<tr><td>J2346.7+0705</td><td>PowerLaw</td><td>3306.8574</td><td>9.3769576e-14</td><td>1.8699483</td><td>9.783825e-14</td><td>1.8473213</td><td>0.021908803</td><td>ISP</td></tr>\n",
       "<tr><td>J2352.0+1750</td><td>PowerLaw</td><td>1963.0232</td><td>1.217889e-13</td><td>2.065914</td><td>1.432079e-13</td><td>1.9516814</td><td>0.13165493</td><td>ISP</td></tr>\n",
       "<tr><td>J2358.1-2853</td><td>PowerLaw</td><td>1281.394</td><td>2.1042043e-13</td><td>2.2268965</td><td>2.4755287e-13</td><td>2.133363</td><td>0.14821252</td><td>ISP</td></tr>\n",
       "<tr><td>J2359.1+1719</td><td>PowerLaw</td><td>2801.7244</td><td>1.7541105e-14</td><td>2.0055103</td><td>2.2782769e-14</td><td>1.9000158</td><td>0.16625412</td><td>ISP</td></tr>\n",
       "</table></div>"
      ],
      "text/plain": [
       "<QTable length=508>\n",
       "Source_Name     SpectrumType   Pivot_Energy ...   LP_beta    SED_class\n",
       "   str18           str17         float32    ...   float32       str3  \n",
       "------------ ----------------- ------------ ... ------------ ---------\n",
       "J0001.2+4741 PowerLaw             2514.9417 ... -0.008456561       ISP\n",
       "J0001.5+2113 LogParabola          355.78442 ...   0.15877607       ISP\n",
       "J0004.0+0840 PowerLaw             2554.3271 ...   0.46910653       ISP\n",
       "J0006.4+0135 PowerLaw             2602.1719 ...   0.32114387       ISP\n",
       "J0009.7-3217 PowerLaw             1941.9213 ...   0.12845568       ISP\n",
       "J0011.4-4110 PowerLaw             746.64996 ...   0.15830652       ISP\n",
       "J0015.2+3537 PowerLaw               5492.13 ... -0.040807247       ISP\n",
       "J0017.8+1455 PowerLaw             1576.2239 ...   0.19641905       ISP\n",
       "J0019.3-8152 PowerLaw             1951.5142 ...  0.041055746       ISP\n",
       "J0021.5-2552 PowerLaw             1301.5568 ...  0.045913514       ISP\n",
       "J0021.9-5140 PowerLaw             1643.3568 ...  0.009565411       ISP\n",
       "         ...               ...          ... ...          ...       ...\n",
       "J2321.7-6438 PowerLaw             1597.1663 ... 0.0007196776       ISP\n",
       "J2324.7+0801 PowerLaw             1539.2036 ...  0.045739554       ISP\n",
       "J2325.4-4800 PowerLaw             1869.2686 ...  0.037751026       ISP\n",
       "J2327.4+0444 PowerLaw             1075.3025 ...  -0.02443383       ISP\n",
       "J2330.3-2948 PowerLaw             2551.1108 ...   -0.0921453       ISP\n",
       "J2338.1+0325 PowerLaw             1603.4708 ...   0.17217295       ISP\n",
       "J2338.9+2124 PowerLaw             2547.4956 ... -0.013409986       ISP\n",
       "J2341.8-2917 PowerLaw             1593.5455 ...   0.12866709       ISP\n",
       "J2346.7+0705 PowerLaw             3306.8574 ...  0.021908803       ISP\n",
       "J2352.0+1750 PowerLaw             1963.0232 ...   0.13165493       ISP\n",
       "J2358.1-2853 PowerLaw              1281.394 ...   0.14821252       ISP\n",
       "J2359.1+1719 PowerLaw             2801.7244 ...   0.16625412       ISP"
      ]
     },
     "execution_count": 12,
     "metadata": {},
     "output_type": "execute_result"
    }
   ],
   "source": [
    "dataISP"
   ]
  },
  {
   "cell_type": "code",
   "execution_count": 13,
   "id": "685e5f78-2f00-403e-8a9d-18dab75a1d98",
   "metadata": {},
   "outputs": [],
   "source": [
    "# dataHSP"
   ]
  },
  {
   "cell_type": "code",
   "execution_count": null,
   "id": "9f61c7be-cb0d-4f3c-b909-6448f62b2207",
   "metadata": {},
   "outputs": [],
   "source": []
  },
  {
   "cell_type": "code",
   "execution_count": 17,
   "id": "716598cd-8503-4b74-81e6-94799ac981b4",
   "metadata": {},
   "outputs": [
    {
     "name": "stdout",
     "output_type": "stream",
     "text": [
      "# of sources in LSP: 1538\n",
      "# of sources in ISP: 508\n",
      "# of sources in HSP: 548\n",
      "\n",
      "# of sources in (LSP + ISP + HSP): 2594\n",
      "initial Goldoni`s table size: 3511\n",
      "are they equal? False\n",
      "\n",
      "difference between tables: 917 SOURCES DO NOT HAVE A SED_class REGISTERED\n"
     ]
    }
   ],
   "source": [
    "## Making sure we have the right count\n",
    "\n",
    "print('# of sources in LSP:', len(dataLSP))\n",
    "print('# of sources in ISP:', len(dataISP))\n",
    "print('# of sources in HSP:', len(dataHSP))\n",
    "\n",
    "print('\\n# of sources in (LSP + ISP + HSP):', len(dataLSP)+len(dataISP)+len(dataHSP))\n",
    "print('initial Goldoni`s table size:', len(catalog_data))\n",
    "print('are they equal?', len(dataLSP)+len(dataISP)+len(dataHSP) == len(catalog_data))\n",
    "\n",
    "print('\\ndifference between tables:', len(catalog_data) - (len(dataLSP)+len(dataISP)+len(dataHSP)), 'SOURCES DO NOT HAVE A SED_class REGISTERED')"
   ]
  },
  {
   "cell_type": "code",
   "execution_count": 15,
   "id": "c5369ff7-df6e-4ba2-82b9-8e92a2cfc330",
   "metadata": {},
   "outputs": [],
   "source": [
    "## Into a dataframe\n",
    "\n",
    "LSP_pandas = dataLSP.to_pandas()\n",
    "ISP_pandas = dataISP.to_pandas()\n",
    "HSP_pandas = dataHSP.to_pandas()\n",
    "whole_data_pandas = catalog_data.to_pandas()\n",
    "\n",
    "LSP_pandas.to_csv('LSP_data.csv', index=False)\n",
    "ISP_pandas.to_csv('ISP_data.csv', index=False)\n",
    "HSP_pandas.to_csv('HSP_data.csv', index=False)\n",
    "whole_data_pandas.to_csv('whole_dataframe.csv', index=False)"
   ]
  }
 ],
 "metadata": {
  "kernelspec": {
   "display_name": "Python 3 (ipykernel)",
   "language": "python",
   "name": "python3"
  },
  "language_info": {
   "codemirror_mode": {
    "name": "ipython",
    "version": 3
   },
   "file_extension": ".py",
   "mimetype": "text/x-python",
   "name": "python",
   "nbconvert_exporter": "python",
   "pygments_lexer": "ipython3",
   "version": "3.9.7"
  }
 },
 "nbformat": 4,
 "nbformat_minor": 5
}
