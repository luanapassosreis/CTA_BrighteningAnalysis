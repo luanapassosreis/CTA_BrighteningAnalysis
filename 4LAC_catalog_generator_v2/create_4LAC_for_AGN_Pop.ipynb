{
 "cells": [
  {
   "cell_type": "markdown",
   "id": "ea237923-896b-4176-a3ae-97d0671c8d38",
   "metadata": {},
   "source": [
    "## Paolo Goldoni's Code to create a Filtered Catalog"
   ]
  },
  {
   "cell_type": "code",
   "execution_count": 1,
   "id": "302855be",
   "metadata": {},
   "outputs": [],
   "source": [
    "from astropy.io import fits\n",
    "import numpy as np\n",
    "from astropy.table import QTable\n",
    "import astropy.units as u\n",
    "from astropy.io import ascii"
   ]
  },
  {
   "cell_type": "markdown",
   "id": "e4d04a16",
   "metadata": {},
   "source": [
    "First set the paths of the catalog files. Note here I'm using the DR2 catalogs:"
   ]
  },
  {
   "cell_type": "code",
   "execution_count": 2,
   "id": "e127ec83",
   "metadata": {},
   "outputs": [],
   "source": [
    "path_4fgl_dr2_catalog = 'input_catalogs/gll_psc_v27.fit'\n",
    "path_4lac_low_gal_lat = 'input_catalogs/table-4LAC-DR2-l.fits'\n",
    "path_4lac_high_gal_lat = 'input_catalogs/table-4LAC-DR2-h.fits'\n",
    "# Paolo Goldoni's catalog (revised 4LAC redshifts) version 2: https://zenodo.org/record/5512660#.YVcoKHuxXRY \n",
    "path_goldoni_catalog = 'input_catalogs/4LAC_newz_AGNPop_2021.fits'"
   ]
  },
  {
   "cell_type": "code",
   "execution_count": 3,
   "id": "a1571f9d",
   "metadata": {},
   "outputs": [],
   "source": [
    "def read_4fgl_dr2():\n",
    "    hdulist = fits.open(path_4fgl_dr2_catalog)\n",
    "    ptSrcCat = hdulist[1].data\n",
    "    for i, name in enumerate(ptSrcCat['Source_Name']):\n",
    "        name = name.replace(\"4FGL \", \"\")\n",
    "        name = name.replace(\" \", \"\")\n",
    "        if name.endswith('c'):\n",
    "            name = name.replace('c', '')\n",
    "        ptSrcCat['Source_Name'][i] = name\n",
    "    return ptSrcCat\n",
    "\n",
    "def read_4lac_catalog_names(filename):\n",
    "    hdulist = fits.open(filename)\n",
    "    ptSrcCat = hdulist[1].data\n",
    "    names = ptSrcCat['Source_Name']\n",
    "    sed_class = ptSrcCat['SED_class']\n",
    "    redshifts = ptSrcCat['Redshift']\n",
    "    for i, name in enumerate(names):\n",
    "        name = name.replace(\"4FGL \", \"\")\n",
    "        name = name.replace(\" \", \"\")\n",
    "        names[i] = name.replace('c', '')\n",
    "    return QTable([names, redshifts, sed_class], names=('Source_Name', 'Redshift', 'SED_class'))\n",
    "\n",
    "def read_goldoni_catalog():\n",
    "    hdulist = fits.open(path_goldoni_catalog)\n",
    "    goldoni = hdulist[1].data\n",
    "    names = goldoni['4FGL name']\n",
    "    for i, name in enumerate(names):\n",
    "        names[i] = name.replace(\"4FGL\",\"\")\n",
    "        if \"J0947.1-25\" in name:\n",
    "            names[i] = \"J0947.1-2541\"\n",
    "    goldoni['4FGL name'] = names\n",
    "    return goldoni\n",
    "\n",
    "def merge_4lac_and_4fgl():\n",
    "    four_fgl = read_4fgl_dr2()\n",
    "    four_lac_l = read_4lac_catalog_names(path_4lac_low_gal_lat)\n",
    "    four_lac_h = read_4lac_catalog_names(path_4lac_high_gal_lat)\n",
    "\n",
    "    mask_4lac = np.zeros(np.shape(four_fgl['Source_Name']), dtype=bool)\n",
    "    # mask_4lac = mask_4lac*False\n",
    "    for i, name in enumerate(four_fgl['Source_Name']):\n",
    "        if name in four_lac_l['Source_Name']:\n",
    "            mask_4lac[i] = True\n",
    "        elif name in four_lac_h['Source_Name']:\n",
    "            mask_4lac[i] = True\n",
    "    lac_fgl_crosscatalog = QTable(four_fgl[mask_4lac])\n",
    "\n",
    "    print(\"Total number of 4LAC entries found in the 4FGL: {}\".format(len(lac_fgl_crosscatalog)))\n",
    "    print(\"Total number of 4LAC entries: {}\".format(len(four_lac_l)+len(four_lac_h)))\n",
    "    \n",
    "    # Create new column in the 4fgl\n",
    "    lac_fgl_crosscatalog['Redshift'] = -1.\n",
    "    redshifts_added = 0\n",
    "    pos_redshifts_added = 0\n",
    "    for i, name in enumerate(lac_fgl_crosscatalog['Source_Name']):\n",
    "        if name in four_lac_l['Source_Name']:\n",
    "            lac_fgl_crosscatalog['Redshift'][i] = four_lac_l['Redshift'][four_lac_l['Source_Name'] == name]\n",
    "            redshifts_added += 1\n",
    "            if four_lac_l['Redshift'][four_lac_l['Source_Name'] == name] > 0:\n",
    "                pos_redshifts_added += 1\n",
    "        elif name in four_lac_h['Source_Name']:\n",
    "            lac_fgl_crosscatalog['Redshift'][i] = four_lac_h['Redshift'][four_lac_h['Source_Name'] == name]\n",
    "            redshifts_added += 1\n",
    "            if four_lac_h['Redshift'][four_lac_h['Source_Name'] == name] > 0:\n",
    "                pos_redshifts_added += 1\n",
    "        else:\n",
    "            print(\"This source did not appear in neither of the 4LAC catalogs...\")\n",
    "    print(\"Added a total of {} redshifts. {} had positive values.\".format(redshifts_added, pos_redshifts_added))\n",
    "    return lac_fgl_crosscatalog\n",
    "\n",
    "def add_sed_class_to_merged_4fgl_and_4lac():\n",
    "    catalog = merge_4lac_and_4fgl()\n",
    "    four_lac_l = read_4lac_catalog_names(path_4lac_low_gal_lat)\n",
    "    four_lac_h = read_4lac_catalog_names(path_4lac_high_gal_lat)\n",
    "\n",
    "    sed_class = []\n",
    "    for source_name in catalog['Source_Name']:\n",
    "        if source_name in four_lac_l['Source_Name']:\n",
    "            sed_class.append(four_lac_l['SED_class'][four_lac_l['Source_Name'] == source_name][0])\n",
    "        elif source_name in four_lac_h['Source_Name']:\n",
    "            sed_class.append(four_lac_h['SED_class'][four_lac_h['Source_Name'] == source_name][0])\n",
    "    catalog['SED_class'] = sed_class\n",
    "    return catalog\n",
    "    \n",
    "def goldoni_revised_4lac():\n",
    "    catalog = add_sed_class_to_merged_4fgl_and_4lac()\n",
    "    goldoni = read_goldoni_catalog()\n",
    "    # Create some variables to store statistics:\n",
    "    valid_redshifts = 0\n",
    "    removed_valid_redshift = 0\n",
    "    added_valid_redshift = 0\n",
    "    updated_value = 0\n",
    "    for i, name in enumerate(catalog['Source_Name']):\n",
    "        if name in goldoni['4FGL name']:\n",
    "#             goldoni_redshift = goldoni['Redshift'][goldoni['4FGL name'] == name][0]\n",
    "            goldoni_redshift = goldoni['Redshift_corr'][goldoni['4FGL name'] == name][0]\n",
    "#             print(\"Updating redshift value, from {:2.3f} to {:2.3f}\".format(catalog['Redshift'][i], goldoni_redshift))\n",
    "            if \"{:2.3f}\".format(catalog['Redshift'][i]) == \"{:2.6f}\".format(goldoni_redshift):\n",
    "                valid_redshifts += 1\n",
    "            elif catalog['Redshift'][i] > 0. and goldoni_redshift > 0.:\n",
    "                updated_value += 1\n",
    "            elif catalog['Redshift'][i] < 0. and goldoni_redshift > 0.:\n",
    "                added_valid_redshift += 1\n",
    "            elif catalog['Redshift'][i] > 0. and goldoni_redshift < 0.:\n",
    "                removed_valid_redshift += 1\n",
    "            catalog['Redshift'][i] = \"{:2.6f}\".format(goldoni_redshift)\n",
    "        else:\n",
    "            catalog['Redshift'][i] = \"{:2.6f}\".format(catalog['Redshift'][i])\n",
    "#         else:\n",
    "#             print(\"{} in P. Goldoni catalog, but not within 4LAC.\".format(name))\n",
    "    print(\" -- From Paolo's catalog -- \")\n",
    "    print(\"A total of {} redshifts were correct within 4LAC\".format(valid_redshifts))\n",
    "    print(\"Removed a total of {} redshifts from 4LAC\".format(removed_valid_redshift))\n",
    "    print(\"Added a total of {} redshifts to 4LAC\".format(added_valid_redshift))\n",
    "    print(\"Updated a total of {} redshifts of 4LAC\".format(updated_value))\n",
    "    return catalog\n",
    "\n",
    "def convert_PLSuperExpCutoff_entries_to_LogParabola(catalog):\n",
    "    for i, entry in enumerate(catalog):\n",
    "        if entry['SpectrumType'] == 'PLSuperExpCutoff ':\n",
    "            catalog['SpectrumType'][i] = 'LogParabola      '\n",
    "    return catalog\n",
    "    \n",
    "\n",
    "def create_agn_pop_shared_4lac_catalog():\n",
    "    catalog = goldoni_revised_4lac()\n",
    "    keep_columns = ['Source_Name', 'RAJ2000', 'DEJ2000', 'Redshift', 'SpectrumType', 'Pivot_Energy', \n",
    "                    'PL_Flux_Density', 'PL_Index', 'LP_Flux_Density', 'LP_Index', 'LP_beta', 'SED_class', \n",
    "                    'Variability_Index', 'Frac_Variability', 'Unc_Frac_Variability']\n",
    "    new_catalog = QTable()\n",
    "    for column in keep_columns:\n",
    "        new_catalog[column] = catalog[column]\n",
    "    final_catalog = convert_PLSuperExpCutoff_entries_to_LogParabola(catalog[keep_columns])\n",
    "    return final_catalog\n"
   ]
  },
  {
   "cell_type": "markdown",
   "id": "91d0946c",
   "metadata": {},
   "source": [
    "Generate the catalog and store it in a couple of different formats:"
   ]
  },
  {
   "cell_type": "code",
   "execution_count": 4,
   "id": "5f212767",
   "metadata": {},
   "outputs": [
    {
     "name": "stdout",
     "output_type": "stream",
     "text": [
      "Total number of 4LAC entries found in the 4FGL: 3511\n",
      "Total number of 4LAC entries: 3511\n",
      "Added a total of 3511 redshifts. 1767 had positive values.\n",
      " -- From Paolo's catalog -- \n",
      "A total of 0 redshifts were correct within 4LAC\n",
      "Removed a total of 87 redshifts from 4LAC\n",
      "Added a total of 23 redshifts to 4LAC\n",
      "Updated a total of 236 redshifts of 4LAC\n"
     ]
    }
   ],
   "source": [
    "agn_pop_catalog = create_agn_pop_shared_4lac_catalog()\n",
    "ascii.write(agn_pop_catalog, 'resulting_catalogs/agn_pop_4lac_dr2.dat', overwrite=True)  \n",
    "agn_pop_catalog.write('resulting_catalogs/agn_pop_4lac_dr2.ecsv', overwrite=True)  \n",
    "agn_pop_catalog.write('resulting_catalogs/agn_pop_4lac_dr2.fits', overwrite=True)  "
   ]
  },
  {
   "cell_type": "markdown",
   "id": "a8b01193",
   "metadata": {},
   "source": [
    "Only selecting those sources with a valid redshift:"
   ]
  },
  {
   "cell_type": "code",
   "execution_count": 5,
   "id": "370c9160",
   "metadata": {},
   "outputs": [],
   "source": [
    "sources_with_redshift = agn_pop_catalog[agn_pop_catalog['Redshift'] > 0.]\n",
    "ascii.write(sources_with_redshift, 'resulting_catalogs/agn_pop_4lac_dr2_with_z.dat', overwrite=True)  \n",
    "sources_with_redshift.write('resulting_catalogs/agn_pop_4lac_dr2_with_z.ecsv', overwrite=True)  \n",
    "sources_with_redshift.write('resulting_catalogs/agn_pop_4lac_dr2_with_z.fits', overwrite=True)  "
   ]
  },
  {
   "cell_type": "code",
   "execution_count": 6,
   "id": "fc94ada0-7448-4012-a0ac-d4e774f9e92e",
   "metadata": {},
   "outputs": [],
   "source": [
    "# sources_with_redshift"
   ]
  },
  {
   "cell_type": "code",
   "execution_count": 7,
   "id": "70535adb-57e2-4047-b911-afc31d8e8c3c",
   "metadata": {},
   "outputs": [
    {
     "data": {
      "text/html": [
       "<div><i>QTable length=3511</i>\n",
       "<table id=\"table140161454927936\" class=\"table-striped table-bordered table-condensed\">\n",
       "<thead><tr><th>Source_Name</th><th>RAJ2000</th><th>DEJ2000</th><th>Redshift</th><th>SpectrumType</th><th>Pivot_Energy</th><th>PL_Flux_Density</th><th>PL_Index</th><th>LP_Flux_Density</th><th>LP_Index</th><th>LP_beta</th><th>SED_class</th><th>Variability_Index</th><th>Frac_Variability</th><th>Unc_Frac_Variability</th></tr></thead>\n",
       "<thead><tr><th>str18</th><th>float32</th><th>float32</th><th>float64</th><th>str17</th><th>float32</th><th>float32</th><th>float32</th><th>float32</th><th>float32</th><th>float32</th><th>str3</th><th>float32</th><th>float32</th><th>float32</th></tr></thead>\n",
       "<tr><td>J0001.2+4741</td><td>0.3126</td><td>47.6859</td><td>-inf</td><td>PowerLaw</td><td>2514.9417</td><td>1.9206343e-14</td><td>2.2221549</td><td>1.893531e-14</td><td>2.2337143</td><td>-0.008456561</td><td>ISP</td><td>20.01873</td><td>0.69284904</td><td>0.40699458</td></tr>\n",
       "<tr><td>J0001.2-0747</td><td>0.3151</td><td>-7.7971</td><td>-inf</td><td>PowerLaw</td><td>1612.6141</td><td>3.3465656e-13</td><td>2.1049428</td><td>3.5833494e-13</td><td>2.0718932</td><td>0.04876986</td><td>LSP</td><td>33.22868</td><td>0.33279318</td><td>0.108399756</td></tr>\n",
       "<tr><td>J0001.5+2113</td><td>0.3815</td><td>21.2183</td><td>1.106</td><td>LogParabola</td><td>355.78442</td><td>3.9051106e-11</td><td>2.659308</td><td>4.532746e-11</td><td>2.5481505</td><td>0.15877607</td><td>ISP</td><td>1564.4176</td><td>1.0545832</td><td>0.24980173</td></tr>\n",
       "<tr><td>J0001.6-4156</td><td>0.4165</td><td>-41.9425</td><td>-inf</td><td>PowerLaw</td><td>4009.3838</td><td>2.0757042e-14</td><td>1.7558894</td><td>2.3474046e-14</td><td>1.6675872</td><td>0.06975478</td><td>HSP</td><td>16.148964</td><td>0.32796606</td><td>0.17213507</td></tr>\n",
       "<tr><td>J0002.1-6728</td><td>0.5378</td><td>-67.4746</td><td>-inf</td><td>PowerLaw</td><td>3689.1895</td><td>1.8744873e-14</td><td>1.846469</td><td>2.3711413e-14</td><td>1.6778738</td><td>0.16372891</td><td></td><td>13.479138</td><td>0.30663496</td><td>0.19210596</td></tr>\n",
       "<tr><td>J0002.3-0815</td><td>0.5937</td><td>-8.2652</td><td>-inf</td><td>PowerLaw</td><td>3959.9126</td><td>7.564005e-15</td><td>1.9895958</td><td>9.510118e-15</td><td>1.9282347</td><td>0.15012589</td><td>LSP</td><td>11.524589</td><td>0.31231728</td><td>0.72063845</td></tr>\n",
       "<tr><td>...</td><td>...</td><td>...</td><td>...</td><td>...</td><td>...</td><td>...</td><td>...</td><td>...</td><td>...</td><td>...</td><td>...</td><td>...</td><td>...</td><td>...</td></tr>\n",
       "<tr><td>J2359.0+3922</td><td>359.7548</td><td>39.3669</td><td>1.198</td><td>PowerLaw</td><td>1621.9188</td><td>1.1973475e-13</td><td>2.3477888</td><td>1.1708454e-13</td><td>2.3640099</td><td>-0.017356092</td><td>LSP</td><td>38.971645</td><td>0.8606212</td><td>0.25553405</td></tr>\n",
       "<tr><td>J2359.0-3038</td><td>359.7719</td><td>-30.6367</td><td>0.165</td><td>PowerLaw</td><td>3703.5862</td><td>3.3936805e-14</td><td>1.8187637</td><td>3.5061916e-14</td><td>1.7988403</td><td>0.017256342</td><td>HSP</td><td>11.602486</td><td>0.15399826</td><td>0.17869046</td></tr>\n",
       "<tr><td>J2359.1+1719</td><td>359.7756</td><td>17.3225</td><td>-inf</td><td>PowerLaw</td><td>2801.7244</td><td>1.7541105e-14</td><td>2.0055103</td><td>2.2782769e-14</td><td>1.9000158</td><td>0.16625412</td><td>ISP</td><td>9.186948</td><td>0.0</td><td>10.0</td></tr>\n",
       "<tr><td>J2359.2-3134</td><td>359.8167</td><td>-31.5832</td><td>0.99</td><td>PowerLaw</td><td>663.0757</td><td>8.154589e-13</td><td>2.604698</td><td>8.583684e-13</td><td>2.5858138</td><td>0.039058067</td><td>LSP</td><td>85.624756</td><td>1.2248484</td><td>0.32078165</td></tr>\n",
       "<tr><td>J2359.3+0215</td><td>359.8329</td><td>2.2603</td><td>-inf</td><td>PowerLaw</td><td>4726.44</td><td>5.183745e-15</td><td>1.7947075</td><td>9.2811314e-15</td><td>1.607395</td><td>0.42203328</td><td>LSP</td><td>13.478229</td><td>0.3452614</td><td>0.969457</td></tr>\n",
       "<tr><td>J2359.3-2049</td><td>359.8357</td><td>-20.8189</td><td>0.096</td><td>PowerLaw</td><td>1965.9421</td><td>8.613323e-14</td><td>2.0880377</td><td>8.2531455e-14</td><td>2.1214917</td><td>-0.026858702</td><td>LSP</td><td>11.05288</td><td>0.12375273</td><td>0.24667947</td></tr>\n",
       "<tr><td>J2359.9-3736</td><td>359.9816</td><td>-37.616</td><td>-inf</td><td>PowerLaw</td><td>1844.0975</td><td>5.4040583e-14</td><td>2.0688875</td><td>7.380662e-14</td><td>1.9067892</td><td>0.25992045</td><td>LSP</td><td>7.181523</td><td>0.0</td><td>10.0</td></tr>\n",
       "</table></div>"
      ],
      "text/plain": [
       "<QTable length=3511>\n",
       "Source_Name  RAJ2000  DEJ2000  ... Frac_Variability Unc_Frac_Variability\n",
       "   str18     float32  float32  ...     float32            float32       \n",
       "------------ -------- -------- ... ---------------- --------------------\n",
       "J0001.2+4741   0.3126  47.6859 ...       0.69284904           0.40699458\n",
       "J0001.2-0747   0.3151  -7.7971 ...       0.33279318          0.108399756\n",
       "J0001.5+2113   0.3815  21.2183 ...        1.0545832           0.24980173\n",
       "J0001.6-4156   0.4165 -41.9425 ...       0.32796606           0.17213507\n",
       "J0002.1-6728   0.5378 -67.4746 ...       0.30663496           0.19210596\n",
       "J0002.3-0815   0.5937  -8.2652 ...       0.31231728           0.72063845\n",
       "         ...      ...      ... ...              ...                  ...\n",
       "J2359.0+3922 359.7548  39.3669 ...        0.8606212           0.25553405\n",
       "J2359.0-3038 359.7719 -30.6367 ...       0.15399826           0.17869046\n",
       "J2359.1+1719 359.7756  17.3225 ...              0.0                 10.0\n",
       "J2359.2-3134 359.8167 -31.5832 ...        1.2248484           0.32078165\n",
       "J2359.3+0215 359.8329   2.2603 ...        0.3452614             0.969457\n",
       "J2359.3-2049 359.8357 -20.8189 ...       0.12375273           0.24667947\n",
       "J2359.9-3736 359.9816  -37.616 ...              0.0                 10.0"
      ]
     },
     "execution_count": 7,
     "metadata": {},
     "output_type": "execute_result"
    }
   ],
   "source": [
    "agn_pop_catalog"
   ]
  },
  {
   "cell_type": "markdown",
   "id": "67890532-464c-4688-ad9c-463c0dba8864",
   "metadata": {},
   "source": [
    "## Separating into Classes (Low/ Intermediate/ High Synchrotron Peak)\n",
    "\n",
    "And filtering only the columns we need"
   ]
  },
  {
   "cell_type": "code",
   "execution_count": 8,
   "id": "ff70a6df-b176-442b-b298-ed713b7ebc85",
   "metadata": {},
   "outputs": [
    {
     "data": {
      "text/html": [
       "<div><i>QTable length=3511</i>\n",
       "<table id=\"table140161694795856\" class=\"table-striped table-bordered table-condensed\">\n",
       "<thead><tr><th>Source_Name</th><th>SpectrumType</th><th>Pivot_Energy</th><th>PL_Flux_Density</th><th>PL_Index</th><th>LP_Flux_Density</th><th>LP_Index</th><th>LP_beta</th><th>SED_class</th></tr></thead>\n",
       "<thead><tr><th>str18</th><th>str17</th><th>float32</th><th>float32</th><th>float32</th><th>float32</th><th>float32</th><th>float32</th><th>str3</th></tr></thead>\n",
       "<tr><td>J0001.2+4741</td><td>PowerLaw</td><td>2514.9417</td><td>1.9206343e-14</td><td>2.2221549</td><td>1.893531e-14</td><td>2.2337143</td><td>-0.008456561</td><td>ISP</td></tr>\n",
       "<tr><td>J0001.2-0747</td><td>PowerLaw</td><td>1612.6141</td><td>3.3465656e-13</td><td>2.1049428</td><td>3.5833494e-13</td><td>2.0718932</td><td>0.04876986</td><td>LSP</td></tr>\n",
       "<tr><td>J0001.5+2113</td><td>LogParabola</td><td>355.78442</td><td>3.9051106e-11</td><td>2.659308</td><td>4.532746e-11</td><td>2.5481505</td><td>0.15877607</td><td>ISP</td></tr>\n",
       "<tr><td>J0001.6-4156</td><td>PowerLaw</td><td>4009.3838</td><td>2.0757042e-14</td><td>1.7558894</td><td>2.3474046e-14</td><td>1.6675872</td><td>0.06975478</td><td>HSP</td></tr>\n",
       "<tr><td>J0002.1-6728</td><td>PowerLaw</td><td>3689.1895</td><td>1.8744873e-14</td><td>1.846469</td><td>2.3711413e-14</td><td>1.6778738</td><td>0.16372891</td><td></td></tr>\n",
       "<tr><td>J0002.3-0815</td><td>PowerLaw</td><td>3959.9126</td><td>7.564005e-15</td><td>1.9895958</td><td>9.510118e-15</td><td>1.9282347</td><td>0.15012589</td><td>LSP</td></tr>\n",
       "<tr><td>...</td><td>...</td><td>...</td><td>...</td><td>...</td><td>...</td><td>...</td><td>...</td><td>...</td></tr>\n",
       "<tr><td>J2359.0+3922</td><td>PowerLaw</td><td>1621.9188</td><td>1.1973475e-13</td><td>2.3477888</td><td>1.1708454e-13</td><td>2.3640099</td><td>-0.017356092</td><td>LSP</td></tr>\n",
       "<tr><td>J2359.0-3038</td><td>PowerLaw</td><td>3703.5862</td><td>3.3936805e-14</td><td>1.8187637</td><td>3.5061916e-14</td><td>1.7988403</td><td>0.017256342</td><td>HSP</td></tr>\n",
       "<tr><td>J2359.1+1719</td><td>PowerLaw</td><td>2801.7244</td><td>1.7541105e-14</td><td>2.0055103</td><td>2.2782769e-14</td><td>1.9000158</td><td>0.16625412</td><td>ISP</td></tr>\n",
       "<tr><td>J2359.2-3134</td><td>PowerLaw</td><td>663.0757</td><td>8.154589e-13</td><td>2.604698</td><td>8.583684e-13</td><td>2.5858138</td><td>0.039058067</td><td>LSP</td></tr>\n",
       "<tr><td>J2359.3+0215</td><td>PowerLaw</td><td>4726.44</td><td>5.183745e-15</td><td>1.7947075</td><td>9.2811314e-15</td><td>1.607395</td><td>0.42203328</td><td>LSP</td></tr>\n",
       "<tr><td>J2359.3-2049</td><td>PowerLaw</td><td>1965.9421</td><td>8.613323e-14</td><td>2.0880377</td><td>8.2531455e-14</td><td>2.1214917</td><td>-0.026858702</td><td>LSP</td></tr>\n",
       "<tr><td>J2359.9-3736</td><td>PowerLaw</td><td>1844.0975</td><td>5.4040583e-14</td><td>2.0688875</td><td>7.380662e-14</td><td>1.9067892</td><td>0.25992045</td><td>LSP</td></tr>\n",
       "</table></div>"
      ],
      "text/plain": [
       "<QTable length=3511>\n",
       "Source_Name     SpectrumType   Pivot_Energy ...   LP_beta    SED_class\n",
       "   str18           str17         float32    ...   float32       str3  \n",
       "------------ ----------------- ------------ ... ------------ ---------\n",
       "J0001.2+4741 PowerLaw             2514.9417 ... -0.008456561       ISP\n",
       "J0001.2-0747 PowerLaw             1612.6141 ...   0.04876986       LSP\n",
       "J0001.5+2113 LogParabola          355.78442 ...   0.15877607       ISP\n",
       "J0001.6-4156 PowerLaw             4009.3838 ...   0.06975478       HSP\n",
       "J0002.1-6728 PowerLaw             3689.1895 ...   0.16372891          \n",
       "J0002.3-0815 PowerLaw             3959.9126 ...   0.15012589       LSP\n",
       "         ...               ...          ... ...          ...       ...\n",
       "J2359.0+3922 PowerLaw             1621.9188 ... -0.017356092       LSP\n",
       "J2359.0-3038 PowerLaw             3703.5862 ...  0.017256342       HSP\n",
       "J2359.1+1719 PowerLaw             2801.7244 ...   0.16625412       ISP\n",
       "J2359.2-3134 PowerLaw              663.0757 ...  0.039058067       LSP\n",
       "J2359.3+0215 PowerLaw               4726.44 ...   0.42203328       LSP\n",
       "J2359.3-2049 PowerLaw             1965.9421 ... -0.026858702       LSP\n",
       "J2359.9-3736 PowerLaw             1844.0975 ...   0.25992045       LSP"
      ]
     },
     "execution_count": 8,
     "metadata": {},
     "output_type": "execute_result"
    }
   ],
   "source": [
    "# print('\\n List of column names:', agn_pop_catalog.colnames)  # List of column names\n",
    "# print('\\n Number of table rows:', len(agn_pop_catalog))      # Number of table rows\n",
    "\n",
    "catalog_data = agn_pop_catalog['Source_Name', 'SpectrumType', 'Pivot_Energy', 'PL_Flux_Density', 'PL_Index', 'LP_Flux_Density', 'LP_Index', 'LP_beta', 'SED_class']\n",
    "\n",
    "catalog_data"
   ]
  },
  {
   "cell_type": "code",
   "execution_count": 9,
   "id": "7704e028-8082-4e60-afa8-07a4465d3e30",
   "metadata": {},
   "outputs": [],
   "source": [
    "## Filtering LSP, ISP and HSP:\n",
    "\n",
    "dataLSP = catalog_data[catalog_data['SED_class'] == 'LSP']\n",
    "dataISP = catalog_data[catalog_data['SED_class'] == 'ISP']\n",
    "dataHSP = catalog_data[catalog_data['SED_class'] == 'HSP']"
   ]
  },
  {
   "cell_type": "code",
   "execution_count": 10,
   "id": "8499d270-c24b-497b-a4c4-1afc129370ef",
   "metadata": {},
   "outputs": [
    {
     "data": {
      "text/html": [
       "&lt;Column name=&apos;SED_class&apos; dtype=&apos;str3&apos; length=4&gt;\n",
       "<table>\n",
       "<tr><td></td></tr>\n",
       "<tr><td>HSP</td></tr>\n",
       "<tr><td>ISP</td></tr>\n",
       "<tr><td>LSP</td></tr>\n",
       "</table>"
      ],
      "text/plain": [
       "<Column name='SED_class' dtype='str3' length=4>\n",
       "   \n",
       "HSP\n",
       "ISP\n",
       "LSP"
      ]
     },
     "execution_count": 10,
     "metadata": {},
     "output_type": "execute_result"
    }
   ],
   "source": [
    "np.unique(catalog_data['SED_class'])"
   ]
  },
  {
   "cell_type": "code",
   "execution_count": 11,
   "id": "e6b4acd8-55b1-44b0-9d56-31f63fc0479a",
   "metadata": {},
   "outputs": [],
   "source": [
    "# dataLSP"
   ]
  },
  {
   "cell_type": "code",
   "execution_count": 12,
   "id": "649597e3-84fc-4e87-a837-541ebbcc2f75",
   "metadata": {},
   "outputs": [
    {
     "data": {
      "text/html": [
       "<div><i>QTable length=508</i>\n",
       "<table id=\"table140161298611696\" class=\"table-striped table-bordered table-condensed\">\n",
       "<thead><tr><th>Source_Name</th><th>SpectrumType</th><th>Pivot_Energy</th><th>PL_Flux_Density</th><th>PL_Index</th><th>LP_Flux_Density</th><th>LP_Index</th><th>LP_beta</th><th>SED_class</th></tr></thead>\n",
       "<thead><tr><th>str18</th><th>str17</th><th>float32</th><th>float32</th><th>float32</th><th>float32</th><th>float32</th><th>float32</th><th>str3</th></tr></thead>\n",
       "<tr><td>J0001.2+4741</td><td>PowerLaw</td><td>2514.9417</td><td>1.9206343e-14</td><td>2.2221549</td><td>1.893531e-14</td><td>2.2337143</td><td>-0.008456561</td><td>ISP</td></tr>\n",
       "<tr><td>J0001.5+2113</td><td>LogParabola</td><td>355.78442</td><td>3.9051106e-11</td><td>2.659308</td><td>4.532746e-11</td><td>2.5481505</td><td>0.15877607</td><td>ISP</td></tr>\n",
       "<tr><td>J0004.0+0840</td><td>PowerLaw</td><td>2554.3271</td><td>2.969869e-14</td><td>2.035315</td><td>4.5140107e-14</td><td>1.6673219</td><td>0.46910653</td><td>ISP</td></tr>\n",
       "<tr><td>J0006.4+0135</td><td>PowerLaw</td><td>2602.1719</td><td>2.2629468e-14</td><td>2.0524669</td><td>3.0523144e-14</td><td>1.7409216</td><td>0.32114387</td><td>ISP</td></tr>\n",
       "<tr><td>J0009.7-3217</td><td>PowerLaw</td><td>1941.9213</td><td>4.3940956e-14</td><td>2.1454287</td><td>5.253848e-14</td><td>2.0901954</td><td>0.12845568</td><td>ISP</td></tr>\n",
       "<tr><td>J0011.4-4110</td><td>PowerLaw</td><td>746.64996</td><td>2.9612678e-13</td><td>2.5804715</td><td>3.496387e-13</td><td>2.5198011</td><td>0.15830652</td><td>ISP</td></tr>\n",
       "<tr><td>...</td><td>...</td><td>...</td><td>...</td><td>...</td><td>...</td><td>...</td><td>...</td><td>...</td></tr>\n",
       "<tr><td>J2338.1+0325</td><td>PowerLaw</td><td>1603.4708</td><td>8.3322855e-14</td><td>2.3742676</td><td>1.0402155e-13</td><td>2.3687997</td><td>0.17217295</td><td>ISP</td></tr>\n",
       "<tr><td>J2338.9+2124</td><td>PowerLaw</td><td>2547.4956</td><td>6.467933e-14</td><td>2.0069292</td><td>6.304568e-14</td><td>2.0199738</td><td>-0.013409986</td><td>ISP</td></tr>\n",
       "<tr><td>J2341.8-2917</td><td>PowerLaw</td><td>1593.5455</td><td>7.331559e-14</td><td>2.23776</td><td>8.4215383e-14</td><td>2.107179</td><td>0.12866709</td><td>ISP</td></tr>\n",
       "<tr><td>J2346.7+0705</td><td>PowerLaw</td><td>3306.8574</td><td>9.3769576e-14</td><td>1.8699483</td><td>9.783825e-14</td><td>1.8473213</td><td>0.021908803</td><td>ISP</td></tr>\n",
       "<tr><td>J2352.0+1750</td><td>PowerLaw</td><td>1963.0232</td><td>1.217889e-13</td><td>2.065914</td><td>1.432079e-13</td><td>1.9516814</td><td>0.13165493</td><td>ISP</td></tr>\n",
       "<tr><td>J2358.1-2853</td><td>PowerLaw</td><td>1281.394</td><td>2.1042043e-13</td><td>2.2268965</td><td>2.4755287e-13</td><td>2.133363</td><td>0.14821252</td><td>ISP</td></tr>\n",
       "<tr><td>J2359.1+1719</td><td>PowerLaw</td><td>2801.7244</td><td>1.7541105e-14</td><td>2.0055103</td><td>2.2782769e-14</td><td>1.9000158</td><td>0.16625412</td><td>ISP</td></tr>\n",
       "</table></div>"
      ],
      "text/plain": [
       "<QTable length=508>\n",
       "Source_Name     SpectrumType   Pivot_Energy ...   LP_beta    SED_class\n",
       "   str18           str17         float32    ...   float32       str3  \n",
       "------------ ----------------- ------------ ... ------------ ---------\n",
       "J0001.2+4741 PowerLaw             2514.9417 ... -0.008456561       ISP\n",
       "J0001.5+2113 LogParabola          355.78442 ...   0.15877607       ISP\n",
       "J0004.0+0840 PowerLaw             2554.3271 ...   0.46910653       ISP\n",
       "J0006.4+0135 PowerLaw             2602.1719 ...   0.32114387       ISP\n",
       "J0009.7-3217 PowerLaw             1941.9213 ...   0.12845568       ISP\n",
       "J0011.4-4110 PowerLaw             746.64996 ...   0.15830652       ISP\n",
       "         ...               ...          ... ...          ...       ...\n",
       "J2338.1+0325 PowerLaw             1603.4708 ...   0.17217295       ISP\n",
       "J2338.9+2124 PowerLaw             2547.4956 ... -0.013409986       ISP\n",
       "J2341.8-2917 PowerLaw             1593.5455 ...   0.12866709       ISP\n",
       "J2346.7+0705 PowerLaw             3306.8574 ...  0.021908803       ISP\n",
       "J2352.0+1750 PowerLaw             1963.0232 ...   0.13165493       ISP\n",
       "J2358.1-2853 PowerLaw              1281.394 ...   0.14821252       ISP\n",
       "J2359.1+1719 PowerLaw             2801.7244 ...   0.16625412       ISP"
      ]
     },
     "execution_count": 12,
     "metadata": {},
     "output_type": "execute_result"
    }
   ],
   "source": [
    "dataISP"
   ]
  },
  {
   "cell_type": "code",
   "execution_count": 13,
   "id": "685e5f78-2f00-403e-8a9d-18dab75a1d98",
   "metadata": {},
   "outputs": [],
   "source": [
    "# dataHSP"
   ]
  },
  {
   "cell_type": "code",
   "execution_count": null,
   "id": "9f61c7be-cb0d-4f3c-b909-6448f62b2207",
   "metadata": {},
   "outputs": [],
   "source": []
  },
  {
   "cell_type": "code",
   "execution_count": 14,
   "id": "716598cd-8503-4b74-81e6-94799ac981b4",
   "metadata": {},
   "outputs": [
    {
     "name": "stdout",
     "output_type": "stream",
     "text": [
      "# of sources in LSP: 1538\n",
      "# of sources in ISP: 508\n",
      "# of sources in HSP: 548\n",
      "\n",
      "# of sources in (LSP + ISP + HSP): 2594\n",
      "initial Goldoni`s table size: 3511\n",
      "are they equal? False\n",
      "\n",
      "difference between tables: 917 SOURCES DO NOT HAVE A SED_class REGISTERED\n"
     ]
    }
   ],
   "source": [
    "## Making sure we have the right count\n",
    "\n",
    "print('# of sources in LSP:', len(dataLSP))\n",
    "print('# of sources in ISP:', len(dataISP))\n",
    "print('# of sources in HSP:', len(dataHSP))\n",
    "\n",
    "print('\\n# of sources in (LSP + ISP + HSP):', len(dataLSP)+len(dataISP)+len(dataHSP))\n",
    "print('initial Goldoni`s table size:', len(catalog_data))\n",
    "print('are they equal?', len(dataLSP)+len(dataISP)+len(dataHSP) == len(catalog_data))\n",
    "\n",
    "print('\\ndifference between tables:', len(catalog_data) - (len(dataLSP)+len(dataISP)+len(dataHSP)), 'SOURCES DO NOT HAVE A SED_class REGISTERED')"
   ]
  },
  {
   "cell_type": "code",
   "execution_count": 15,
   "id": "c5369ff7-df6e-4ba2-82b9-8e92a2cfc330",
   "metadata": {},
   "outputs": [],
   "source": [
    "## Into a dataframe\n",
    "\n",
    "LSP_pandas = dataLSP.to_pandas()\n",
    "ISP_pandas = dataISP.to_pandas()\n",
    "HSP_pandas = dataHSP.to_pandas()\n",
    "whole_data_pandas = catalog_data.to_pandas()\n",
    "\n",
    "LSP_pandas.to_csv('LSP_data.csv', index=False)\n",
    "ISP_pandas.to_csv('ISP_data.csv', index=False)\n",
    "HSP_pandas.to_csv('HSP_data.csv', index=False)\n",
    "whole_data_pandas.to_csv('whole_dataframe.csv', index=False)"
   ]
  },
  {
   "cell_type": "code",
   "execution_count": null,
   "id": "52f88d9d-fb18-43d8-ba24-8cb7ce46670d",
   "metadata": {},
   "outputs": [],
   "source": []
  },
  {
   "cell_type": "markdown",
   "id": "1b08726d-9ee6-47ff-bc96-d052b916965f",
   "metadata": {},
   "source": [
    "Separating only the values of the Fractional Variability per source."
   ]
  },
  {
   "cell_type": "code",
   "execution_count": 17,
   "id": "c8963153-f591-4f1f-b3f9-a235aef13ef0",
   "metadata": {},
   "outputs": [
    {
     "data": {
      "text/html": [
       "<div><i>QTable length=3511</i>\n",
       "<table id=\"table140161473252848\" class=\"table-striped table-bordered table-condensed\">\n",
       "<thead><tr><th>Source_Name</th><th>Frac_Variability</th><th>Unc_Frac_Variability</th></tr></thead>\n",
       "<thead><tr><th>str18</th><th>float32</th><th>float32</th></tr></thead>\n",
       "<tr><td>J0001.2+4741</td><td>0.69284904</td><td>0.40699458</td></tr>\n",
       "<tr><td>J0001.2-0747</td><td>0.33279318</td><td>0.108399756</td></tr>\n",
       "<tr><td>J0001.5+2113</td><td>1.0545832</td><td>0.24980173</td></tr>\n",
       "<tr><td>J0001.6-4156</td><td>0.32796606</td><td>0.17213507</td></tr>\n",
       "<tr><td>J0002.1-6728</td><td>0.30663496</td><td>0.19210596</td></tr>\n",
       "<tr><td>J0002.3-0815</td><td>0.31231728</td><td>0.72063845</td></tr>\n",
       "<tr><td>...</td><td>...</td><td>...</td></tr>\n",
       "<tr><td>J2359.0+3922</td><td>0.8606212</td><td>0.25553405</td></tr>\n",
       "<tr><td>J2359.0-3038</td><td>0.15399826</td><td>0.17869046</td></tr>\n",
       "<tr><td>J2359.1+1719</td><td>0.0</td><td>10.0</td></tr>\n",
       "<tr><td>J2359.2-3134</td><td>1.2248484</td><td>0.32078165</td></tr>\n",
       "<tr><td>J2359.3+0215</td><td>0.3452614</td><td>0.969457</td></tr>\n",
       "<tr><td>J2359.3-2049</td><td>0.12375273</td><td>0.24667947</td></tr>\n",
       "<tr><td>J2359.9-3736</td><td>0.0</td><td>10.0</td></tr>\n",
       "</table></div>"
      ],
      "text/plain": [
       "<QTable length=3511>\n",
       "Source_Name  Frac_Variability Unc_Frac_Variability\n",
       "   str18         float32            float32       \n",
       "------------ ---------------- --------------------\n",
       "J0001.2+4741       0.69284904           0.40699458\n",
       "J0001.2-0747       0.33279318          0.108399756\n",
       "J0001.5+2113        1.0545832           0.24980173\n",
       "J0001.6-4156       0.32796606           0.17213507\n",
       "J0002.1-6728       0.30663496           0.19210596\n",
       "J0002.3-0815       0.31231728           0.72063845\n",
       "         ...              ...                  ...\n",
       "J2359.0+3922        0.8606212           0.25553405\n",
       "J2359.0-3038       0.15399826           0.17869046\n",
       "J2359.1+1719              0.0                 10.0\n",
       "J2359.2-3134        1.2248484           0.32078165\n",
       "J2359.3+0215        0.3452614             0.969457\n",
       "J2359.3-2049       0.12375273           0.24667947\n",
       "J2359.9-3736              0.0                 10.0"
      ]
     },
     "execution_count": 17,
     "metadata": {},
     "output_type": "execute_result"
    }
   ],
   "source": [
    "source_name_and_fvar = agn_pop_catalog['Source_Name', 'Frac_Variability', 'Unc_Frac_Variability'] # 'SED_class'\n",
    "\n",
    "source_name_and_fvar"
   ]
  },
  {
   "cell_type": "code",
   "execution_count": 18,
   "id": "5f6d9ede-afed-450b-bc85-971302afd180",
   "metadata": {},
   "outputs": [],
   "source": [
    "## Into a dataframe\n",
    "\n",
    "source_name_and_fvar.to_pandas().to_csv('Fvar_data.csv', index=False)"
   ]
  },
  {
   "cell_type": "code",
   "execution_count": null,
   "id": "775c878c-b3d0-4efb-a7b6-935a6927004e",
   "metadata": {},
   "outputs": [],
   "source": []
  }
 ],
 "metadata": {
  "kernelspec": {
   "display_name": "Python 3 (ipykernel)",
   "language": "python",
   "name": "python3"
  },
  "language_info": {
   "codemirror_mode": {
    "name": "ipython",
    "version": 3
   },
   "file_extension": ".py",
   "mimetype": "text/x-python",
   "name": "python",
   "nbconvert_exporter": "python",
   "pygments_lexer": "ipython3",
   "version": "3.9.7"
  }
 },
 "nbformat": 4,
 "nbformat_minor": 5
}
